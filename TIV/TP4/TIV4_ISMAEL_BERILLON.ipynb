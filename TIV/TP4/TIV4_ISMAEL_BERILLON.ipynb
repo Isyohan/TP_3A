{
 "cells": [
  {
   "cell_type": "code",
   "execution_count": 3,
   "metadata": {},
   "outputs": [],
   "source": [
    "import pandas as pd\n",
    "import numpy as np\n",
    "from numpy import ndarray\n",
    "import matplotlib.pyplot as plt\n",
    "import matplotlib.image as mpimg\n",
    "\n",
    "import cv2\n",
    "\n",
    "\n",
    "import random as rd"
   ]
  },
  {
   "cell_type": "code",
   "execution_count": 4,
   "metadata": {},
   "outputs": [],
   "source": [
    "# Clean video\n",
    "video=[]\n",
    "cap = cv2.VideoCapture('escrime3.avi')\n",
    "while(1):\n",
    "   ret,frame=cap.read()\n",
    "   video.append(frame)\n",
    "   if cv2.waitKey(1) & 0xFF == ord('q') or ret==False :\n",
    "      cap.release()\n",
    "      cv2.destroyAllWindows()\n",
    "      break\n",
    "   cv2.imshow('frame',frame)"
   ]
  },
  {
   "cell_type": "code",
   "execution_count": 5,
   "metadata": {},
   "outputs": [],
   "source": [
    "# Create histogramme of given size centered in (x,y) from frame j of the video\n",
    "def histoImage(x,y,size,video,j):\n",
    "  image=video[j]\n",
    "  histRed, b = np.histogram(image[x-size//2:x+size//2,y-size//2:y+size//2,0],255)\n",
    "  histGreen, b = np.histogram(image[x-size//2:x+size//2,y-size//2:y+size//2,1],255)\n",
    "  histBlue, b = np.histogram(image[x-size//2:x+size//2,y-size//2:y+size//2,2],255)\n",
    "  histtot = np.concatenate((histRed,histGreen,histBlue),axis=0)\n",
    "  histtot =  histtot/sum(histtot)\n",
    "  return(histtot)"
   ]
  },
  {
   "cell_type": "code",
   "execution_count": 6,
   "metadata": {},
   "outputs": [],
   "source": [
    "# create N particles with standard deviation sigma and mean (x,y) and carefully move points outside of the frame\n",
    "def create_particles(N,x,y,sig,taille_carré):\n",
    "    L=np.random.multivariate_normal((x,y),sig,N)\n",
    "    L=np.round(L).astype(int)\n",
    "    L[L<taille_carré//2]=taille_carré//2\n",
    "    L[:,0][L[:,0]>480-taille_carré//2]=480-taille_carré//2\n",
    "    L[:,1][L[:,1]>640-taille_carré//2]=640-taille_carré//2\n",
    "    return(L)\n",
    "# create the weight array\n",
    "def create_w(N):\n",
    "    w=np.ndarray(N)\n",
    "    w[:]=1/N\n",
    "    return(w)"
   ]
  },
  {
   "cell_type": "code",
   "execution_count": 7,
   "metadata": {},
   "outputs": [],
   "source": [
    "#distance squared between 2 histograms\n",
    "def d2(h1,h2):\n",
    "    out=1-np.sum(np.sqrt(h1[:]*h2[:]))\n",
    "    return out\n",
    "\n",
    "def Likelihood_function(href,x,y,l,size,video,j):\n",
    "    G = np.exp(-l*d2(href,histoImage(x,y,size,video,j)))\n",
    "    return G\n",
    "# Update weight of every particles\n",
    "def particuleUpdate(W,ListParticule,href,l,size,video,j):\n",
    "    for i in range(len(W)):\n",
    "        W[i] = W[i]*Likelihood_function(href,int(ListParticule[i][0]),int(ListParticule[i][1]),l,size,video,j)\n",
    "    W=W/sum(W)\n",
    "    return(W)\n",
    "# Predict the next coordinate of the point\n",
    "def prediction(w,ListParticule):\n",
    "    x=int(sum(w[:]*ListParticule[:,0]))\n",
    "    y=int(sum(w[:]*ListParticule[:,1]))\n",
    "    return([x,y])\n"
   ]
  },
  {
   "cell_type": "code",
   "execution_count": 8,
   "metadata": {},
   "outputs": [],
   "source": [
    "def updatepPosition(ListParticulePosition,size,href,video,i,taille_del,sigma):\n",
    "    dist=[]\n",
    "    # resampling\n",
    "    for j in range(len(ListParticulePosition)):\n",
    "        dist.append(d2(href,histoImage(int(ListParticulePosition[j,0]),int(ListParticulePosition[j,1]),size,video,i)))\n",
    "    for k in range(taille_del):\n",
    "        inde=dist.index(max(dist))\n",
    "        ListParticulePosition=np.delete(ListParticulePosition, inde,axis=0) \n",
    "        dist.pop(inde)                                                     \n",
    "    inde_min=dist.index(min(dist))                                        \n",
    "    x,y=ListParticulePosition[inde_min,:]                                 \n",
    "    h=create_particles(taille_del,x,y,sigma,40)\n",
    "    L=np.concatenate((ListParticulePosition,h),axis=0)\n",
    "    return(L)"
   ]
  },
  {
   "cell_type": "code",
   "execution_count": 9,
   "metadata": {},
   "outputs": [],
   "source": [
    "# Put white dot where the tracking point is \n",
    "def tracking(im,center_point,size_square=2):\n",
    "    im[center_point[0] - size_square : center_point[0] + size_square,\n",
    "        center_point[1] - size_square : center_point[1] + size_square] = np.ones((size_square*2,size_square*2,3))*255\n",
    "\n",
    "# Put black point where the tracking point is \n",
    "def black_tracking(im,center_point,size_square=2):\n",
    "    im[center_point[0] - size_square : center_point[0] + size_square,\n",
    "        center_point[1] - size_square : center_point[1] + size_square] = np.zeros((size_square*2,size_square*2,3))*255"
   ]
  },
  {
   "cell_type": "code",
   "execution_count": 10,
   "metadata": {},
   "outputs": [],
   "source": [
    "import copy as cp\n",
    "nbr_del=25\n",
    "\n",
    "# Do the tracking from the beggining to end \n",
    "def Track_objet1(video,sigma,N,Xinit,Yinit,size,l,nbr_del):\n",
    "  x=Xinit\n",
    "  y=Yinit\n",
    "  W=create_w(N)\n",
    "  ListParticulePosition = create_particles(N,Xinit,Yinit,sigma,40)\n",
    "  video_cel=cp.deepcopy(video)\n",
    "  video2=cp.deepcopy(video)  \n",
    "  predictions=[]             \n",
    "  href=histoImage(Xinit,Yinit,size,video2,0)\n",
    "  for j in range(len(video2)-1):\n",
    "    predictions.append(prediction(W,ListParticulePosition))\n",
    "    ListParticulePosition=updatepPosition(ListParticulePosition,size,href,video2,j,nbr_del,sigma)\n",
    "    W=particuleUpdate(W,ListParticulePosition,href,l,size,video2,j)\n",
    "    tracking(video_cel[j],predictions[-1])\n",
    "  return(predictions,video_cel)\n",
    "\n",
    "# This function is the same as above but the tracking point is black instead of white\n",
    "def black_Track_objet1(video,sigma,N,Xinit,Yinit,size,l,nbr_del):\n",
    "  x=Xinit\n",
    "  y=Yinit\n",
    "  W=create_w(N)\n",
    "  ListParticulePosition = create_particles(N,Xinit,Yinit,sigma,40)\n",
    "  video_cel=cp.deepcopy(video)\n",
    "  video2=cp.deepcopy(video)  \n",
    "  predictions=[]              \n",
    "  href=histoImage(Xinit,Yinit,size,video2,0)\n",
    "  for j in range(len(video2)-1):\n",
    "    predictions.append(prediction(W,ListParticulePosition))\n",
    "    ListParticulePosition=updatepPosition(ListParticulePosition,size,href,video2,j,nbr_del,sigma)\n",
    "    W=particuleUpdate(W,ListParticulePosition,href,l,size,video2,j)\n",
    "    black_tracking(video_cel[j],predictions[-1])\n",
    "  return(predictions,video_cel)"
   ]
  },
  {
   "cell_type": "code",
   "execution_count": 11,
   "metadata": {},
   "outputs": [],
   "source": [
    "# Clean video\n",
    "video=[]\n",
    "cap = cv2.VideoCapture('escrime3.avi')\n",
    "while(1):\n",
    "   ret,frame=cap.read()\n",
    "   video.append(frame)\n",
    "   if cv2.waitKey(1) & 0xFF == ord('q') or ret==False :\n",
    "      cap.release()\n",
    "      cv2.destroyAllWindows()\n",
    "      break\n",
    "   cv2.imshow('frame',frame)"
   ]
  },
  {
   "attachments": {},
   "cell_type": "markdown",
   "metadata": {},
   "source": [
    "## Tracking center of the object"
   ]
  },
  {
   "cell_type": "code",
   "execution_count": 12,
   "metadata": {},
   "outputs": [],
   "source": [
    "sig=np.diag([20,20])\n",
    "N=50\n",
    "p,v=Track_objet1(video,sig,N,480//2,640//2,40,0.001,nbr_del=N//3)\n"
   ]
  },
  {
   "cell_type": "code",
   "execution_count": 13,
   "metadata": {},
   "outputs": [],
   "source": [
    "\n",
    "height,width,layers=v[1].shape\n",
    "\n",
    "#video=cv2.VideoWriter('video.avi',-1,1,(width,height))\n",
    "video=cv2.VideoWriter('project.avi',cv2.VideoWriter_fourcc(*'DIVX'), 15, (width,height))\n",
    "\n",
    "for j in range(len(v)):\n",
    "    video.write(v[j])\n",
    "\n",
    "cv2.destroyAllWindows()\n",
    "video.release()"
   ]
  },
  {
   "cell_type": "code",
   "execution_count": 14,
   "metadata": {},
   "outputs": [],
   "source": [
    "\n",
    "cap = cv2.VideoCapture('project.avi')\n",
    "while(1):\n",
    "   ret,frame=cap.read()\n",
    "   if cv2.waitKey(1) & 0xFF == ord('q') or ret==False :\n",
    "      cap.release()\n",
    "      cv2.destroyAllWindows()\n",
    "      break\n",
    "   cv2.imshow('frame',frame)\n"
   ]
  },
  {
   "attachments": {},
   "cell_type": "markdown",
   "metadata": {},
   "source": [
    "# TP4"
   ]
  },
  {
   "attachments": {},
   "cell_type": "markdown",
   "metadata": {},
   "source": [
    "## Questions"
   ]
  },
  {
   "attachments": {},
   "cell_type": "markdown",
   "metadata": {},
   "source": [
    "1 - We can consider the vector $X_k$ as a 14-dimension vector composed of 1 point (center of the square) and 12 angles for each articulation of each arm. or, for ur first example, 24-dimension vector composed of 12 2-dimension points for each little arms in the picture \n",
    " \n",
    "2 - We have another method which consists in creating several kinds of particles which represent a position with a particular angles. This way is not the best method because it creates occlusion between the different arms.\n",
    " \n",
    "3 - If we increase the number of rectangles, we increase the difficulty to detect the end of the arm because we increase the number of angles, thus the number of parameters. So the position of the end of the arm will be in a higher interval than the position of the end of the arm for a smaller number of articulations. So, when we decrease the number of articulations, we can have a better detection because the position of the end of the arm is restricted.\n"
   ]
  },
  {
   "attachments": {},
   "cell_type": "markdown",
   "metadata": {},
   "source": [
    "## Practical Work"
   ]
  },
  {
   "cell_type": "code",
   "execution_count": 15,
   "metadata": {},
   "outputs": [],
   "source": [
    "# Clean video\n",
    "video=[]\n",
    "cap = cv2.VideoCapture('escrime3.avi')\n",
    "while(1):\n",
    "   ret,frame=cap.read()\n",
    "   video.append(frame)\n",
    "   if cv2.waitKey(1) & 0xFF == ord('q') or ret==False :\n",
    "      cap.release()\n",
    "      cv2.destroyAllWindows()\n",
    "      break\n",
    "   cv2.imshow('frame',frame)"
   ]
  },
  {
   "cell_type": "code",
   "execution_count": 16,
   "metadata": {},
   "outputs": [],
   "source": [
    "# define what we want to track\n",
    "size_little_arm=32\n",
    "offset_arm=size_little_arm-2\n",
    "centers=[]\n",
    "\n",
    "center1=[143,320]\n",
    "center2=[143+offset_arm,320]\n",
    "center3=[143+2*(offset_arm),320]\n",
    "\n",
    "center4=[240,225]\n",
    "center5=[240,225+offset_arm]\n",
    "center6=[240,225+2*offset_arm]\n",
    "\n",
    "center7=[336,320]\n",
    "center8=[336-offset_arm,320]\n",
    "center9=[336-2*offset_arm,320]\n",
    "\n",
    "center10=[240,417]\n",
    "center11=[240,417-offset_arm]\n",
    "center12=[240,417-2*offset_arm]\n",
    "\n",
    "centers.append(center1)\n",
    "centers.append(center2)\n",
    "centers.append(center3)\n",
    "centers.append(center4)\n",
    "centers.append(center5)\n",
    "centers.append(center6)\n",
    "centers.append(center7)\n",
    "centers.append(center8)\n",
    "centers.append(center9)\n",
    "centers.append(center10)\n",
    "centers.append(center11)\n",
    "centers.append(center12)\n",
    "\n"
   ]
  },
  {
   "cell_type": "code",
   "execution_count": 17,
   "metadata": {},
   "outputs": [
    {
     "data": {
      "image/png": "[encoded data removed]",
      "text/plain": [
       "<Figure size 432x288 with 12 Axes>"
      ]
     },
     "metadata": {},
     "output_type": "display_data"
    }
   ],
   "source": [
    "plt.figure()\n",
    "for i in range(len(centers)):\n",
    "    plt.subplot(4,3,i+1)\n",
    "    plt.imshow(video[0][centers[i][0]-size_little_arm//2:centers[i][0]+size_little_arm//2,\n",
    "            centers[i][1]-size_little_arm//2:centers[i][1]+size_little_arm//2,\n",
    "            :])\n",
    "    plt.tick_params(left = False , labelleft = False ,\n",
    "                    labelbottom = False, bottom = False)\n",
    "\n"
   ]
  },
  {
   "cell_type": "code",
   "execution_count": 18,
   "metadata": {},
   "outputs": [
    {
     "name": "stdout",
     "output_type": "stream",
     "text": [
      "0 1 2 3 4 5 6 7 8 9 10 11 "
     ]
    }
   ],
   "source": [
    "sig=np.diag([1,1])\n",
    "N=100\n",
    "l=0.001\n",
    "\n",
    "v=video\n",
    "\n",
    "newcenters=[]\n",
    "\n",
    "for i in range(len(centers)):\n",
    "   print(i,end=' ')\n",
    "   p,v=Track_objet1(video=v,sigma=sig,N=N,Xinit=centers[i][0],Yinit=centers[i][1],size=size_little_arm,l=l,nbr_del=N//3)\n",
    "   newcenters.append(p[-2])\n",
    "   #p,v=New_tracking(video=v,sigma=sig,N=N,Xinit=centers[i][0],Yinit=centers[i][1],size=size_little_arm,l=1,nbr_del=N//3)\n",
    "\n"
   ]
  },
  {
   "cell_type": "code",
   "execution_count": 19,
   "metadata": {},
   "outputs": [
    {
     "data": {
      "image/png": "[encoded data removed]",
      "text/plain": [
       "<Figure size 432x288 with 12 Axes>"
      ]
     },
     "metadata": {},
     "output_type": "display_data"
    }
   ],
   "source": [
    "plt.figure()\n",
    "for i in range(len(newcenters)):\n",
    "    plt.subplot(4,3,i+1)\n",
    "    plt.imshow(video[-2][newcenters[i][0]-size_little_arm//2:newcenters[i][0]+size_little_arm//2,\n",
    "            newcenters[i][1]-size_little_arm//2:newcenters[i][1]+size_little_arm//2,\n",
    "            :])\n",
    "    plt.tick_params(left = False , labelleft = False ,\n",
    "                    labelbottom = False, bottom = False)"
   ]
  },
  {
   "attachments": {},
   "cell_type": "markdown",
   "metadata": {},
   "source": [
    "Final position is not really good but we have to see the transition"
   ]
  },
  {
   "cell_type": "code",
   "execution_count": 20,
   "metadata": {},
   "outputs": [],
   "source": [
    "\n",
    "height,width,layers=v[1].shape\n",
    "\n",
    "#video=cv2.VideoWriter('video.avi',-1,1,(width,height))\n",
    "video=cv2.VideoWriter('project.avi',cv2.VideoWriter_fourcc(*'DIVX'), 15, (width,height))\n",
    "\n",
    "for j in range(len(v)):\n",
    "    video.write(v[j])\n",
    "\n",
    "cv2.destroyAllWindows()\n",
    "video.release()\n",
    "\n",
    "cap = cv2.VideoCapture('project.avi')\n",
    "while(1):\n",
    "   ret,frame=cap.read()\n",
    "   if cv2.waitKey(1) & 0xFF == ord('q') or ret==False :\n",
    "      cap.release()\n",
    "      cv2.destroyAllWindows()\n",
    "      break\n",
    "   cv2.imshow('frame',frame)"
   ]
  },
  {
   "attachments": {},
   "cell_type": "markdown",
   "metadata": {},
   "source": [
    "In the video we can see that we can follow the arms but not really precisely, we need to change our parameters or use other methods"
   ]
  },
  {
   "attachments": {},
   "cell_type": "markdown",
   "metadata": {},
   "source": [
    "### Try with other video"
   ]
  },
  {
   "cell_type": "code",
   "execution_count": 21,
   "metadata": {},
   "outputs": [],
   "source": [
    "# Clean video\n",
    "video=[]\n",
    "cap = cv2.VideoCapture('seq21.avi')\n",
    "while(1):\n",
    "   ret,frame=cap.read()\n",
    "   video.append(frame)\n",
    "   if cv2.waitKey(1) & 0xFF == ord('q') or ret==False :\n",
    "      cap.release()\n",
    "      cv2.destroyAllWindows()\n",
    "      break\n",
    "   cv2.imshow('frame',frame)"
   ]
  },
  {
   "cell_type": "code",
   "execution_count": 22,
   "metadata": {},
   "outputs": [
    {
     "name": "stdout",
     "output_type": "stream",
     "text": [
      "(480, 640, 3)\n"
     ]
    },
    {
     "data": {
      "image/png": "[encoded data removed]",
      "text/plain": [
       "<Figure size 432x288 with 1 Axes>"
      ]
     },
     "metadata": {
      "needs_background": "light"
     },
     "output_type": "display_data"
    }
   ],
   "source": [
    "im=video[0]\n",
    "p=[220,450]\n",
    "t=10\n",
    "print(im.shape)\n",
    "plt.figure()\n",
    "plt.imshow(im[p[0]-t:p[0]+t,p[1]-t:p[1]+t,:])\n",
    "plt.show()"
   ]
  },
  {
   "cell_type": "code",
   "execution_count": 23,
   "metadata": {},
   "outputs": [],
   "source": [
    "sigma=np.diag([10,10])\n",
    "N=100\n",
    "l=.1\n",
    "points,v=black_Track_objet1(video=video,sigma=sigma,Xinit=p[0],Yinit=p[1],l=l,nbr_del=N//3,N=N,size=t)\n",
    "\n",
    "height,width,layers=v[1].shape\n",
    "\n",
    "#video=cv2.VideoWriter('video.avi',-1,1,(width,height))\n",
    "videoWriter=cv2.VideoWriter('project2.avi',cv2.VideoWriter_fourcc(*'DIVX'), 15, (width,height))\n",
    "\n",
    "for j in range(len(v)):\n",
    "    videoWriter.write(v[j])\n",
    "\n",
    "cv2.destroyAllWindows()\n",
    "videoWriter.release()"
   ]
  },
  {
   "cell_type": "code",
   "execution_count": 24,
   "metadata": {},
   "outputs": [
    {
     "data": {
      "image/png": "[encoded data removed]",
      "text/plain": [
       "<Figure size 432x288 with 2 Axes>"
      ]
     },
     "metadata": {},
     "output_type": "display_data"
    }
   ],
   "source": [
    "plt.figure()\n",
    "plt.subplot(1,2,1)\n",
    "plt.imshow(video[0][p[0]-t:p[0]+t,p[1]-t:p[1]+t,:])\n",
    "plt.tick_params(left = False , labelleft = False ,\n",
    "                    labelbottom = False, bottom = False)\n",
    "plt.subplot(1,2,2)\n",
    "plt.imshow(video[-2][points[-1][0]-t:points[-1][0]+t,points[-1][1]-t:points[-1][1]+t,:])\n",
    "plt.tick_params(left = False , labelleft = False ,\n",
    "                    labelbottom = False, bottom = False)\n",
    "plt.show()"
   ]
  },
  {
   "cell_type": "code",
   "execution_count": 25,
   "metadata": {},
   "outputs": [],
   "source": [
    "cap = cv2.VideoCapture('project2.avi')\n",
    "while(1):\n",
    "   ret,frame=cap.read()\n",
    "   if cv2.waitKey(1) & 0xFF == ord('q') or ret==False :\n",
    "      cap.release()\n",
    "      cv2.destroyAllWindows()\n",
    "      break\n",
    "   cv2.imshow('frame',frame)"
   ]
  },
  {
   "attachments": {},
   "cell_type": "markdown",
   "metadata": {},
   "source": [
    "Different video different conclusion, the tracking is pretty bad but it ends well"
   ]
  }
 ],
 "metadata": {
  "kernelspec": {
   "display_name": "Python 3.9.12 ('base')",
   "language": "python",
   "name": "python3"
  },
  "language_info": {
   "codemirror_mode": {
    "name": "ipython",
    "version": 3
   },
   "file_extension": ".py",
   "mimetype": "text/x-python",
   "name": "python",
   "nbconvert_exporter": "python",
   "pygments_lexer": "ipython3",
   "version": "3.9.12 (main, Apr  5 2022, 01:53:17) \n[Clang 12.0.0 ]"
  },
  "orig_nbformat": 4,
  "vscode": {
   "interpreter": {
    "hash": "7339996d7815a0ae30850c182ba9bbc0a1cb89e61563a0ae1819bddf17b67295"
   }
  }
 },
 "nbformat": 4,
 "nbformat_minor": 2
}
