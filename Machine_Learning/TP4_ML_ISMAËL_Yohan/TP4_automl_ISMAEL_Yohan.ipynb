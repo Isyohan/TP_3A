{
  "cells": [
    {
      "cell_type": "markdown",
      "metadata": {
        "id": "1LNHfxEXelHB"
      },
      "source": [
        "# TP: Machine Learning (SIA_3611)\n",
        "\n",
        "## TP4: AutoML (4h) \n",
        "\n",
        "by Guillaume Renton \n",
        "\n",
        "In previous TP, you have learned to use machine learning for different kind of tasks, from regression to clustering through classification. In this TP, you are going to use the earned knowledge on new datasets for regression and classification. \n",
        "\n",
        "You are going to use 2 new datasets in this TP. First one is california housing, whose target variable is the value of houses in california, expressed in hundred of thousand of dollars. For each house, a set of 9 features is available. There is a total of 20 060 data. \n",
        "\n",
        "Second one is MNIST, a very popular dataset for handwritten recognition and image classification. The original dataset is made of 60 000 training images of shape 28x28 of handwritten digits from 0 to 9, and 10 000 images for test dataset. For computaional time, you will work on a given random subset of MNIST made of 6000 images in train and 1000 images in test.  \n",
        "\n",
        "**Objectives :** \n",
        "- Apply your knowledge on new datasets\n",
        "- Tune models hyperparameters and explore metrics \n",
        "- Apply principal components analysis and understand its effects on both dataset\n",
        "- Understand and use Cross-Validation\n",
        "- Use AutoML to find interesting models "
      ]
    },
    {
      "cell_type": "markdown",
      "metadata": {
        "id": "iZ-Hb6AzelHE"
      },
      "source": [
        "### STEP 1 : Getting started with new datasets\n",
        "\n",
        "#### Substep 1 : Regression\n",
        "\n",
        "In first part of step 1, you will work on the regression problem with the dataset california housing."
      ]
    },
    {
      "cell_type": "markdown",
      "metadata": {
        "id": "2dM2ZsdqelHE"
      },
      "source": [
        "**To do 1.1**\n",
        "\n",
        "Execute the following cell to load the california housing dataset and normalize it."
      ]
    },
    {
      "cell_type": "code",
      "execution_count": 2,
      "metadata": {
        "id": "FaHGL71EelHE"
      },
      "outputs": [],
      "source": [
        "from sklearn.datasets import fetch_california_housing\n",
        "from sklearn.preprocessing import normalize\n",
        "\n",
        "X, y = fetch_california_housing(return_X_y = True)\n",
        "X = normalize(X)"
      ]
    },
    {
      "cell_type": "markdown",
      "metadata": {
        "id": "bVBzwbF5elHF"
      },
      "source": [
        "**To code 1.2**\n",
        "\n",
        "Apply [Stochastic Gradient Descent](https://scikit-learn.org/stable/modules/generated/sklearn.linear_model.SGDRegressor.html#sklearn.linear_model.SGDRegressor) and [SVR](https://scikit-learn.org/stable/modules/generated/sklearn.svm.SVR.html) methods and cross validate your results using 5 folders. For this, you can either use the function [cross_val_score](https://scikit-learn.org/stable/modules/generated/sklearn.model_selection.cross_val_score.html#sklearn.model_selection.cross_val_score)(or any other method for cross validation in sklearn) or either compute yourself the cross validation. According to a relevant metric optimize both methods. For SGD you will optimize the value of alpha for both L2 and L1 penalty score. For SVR, you will optimize the kernel. Be careful with the metric if you use cross_val_score, the returned values are often negative."
      ]
    },
    {
      "cell_type": "code",
      "execution_count": 3,
      "metadata": {
        "id": "H-xPzYw_elHG"
      },
      "outputs": [],
      "source": [
        "from sklearn.linear_model import SGDRegressor\n",
        "from sklearn.svm import SVR\n",
        "from sklearn.model_selection import cross_val_score\n",
        "from sklearn.metrics import accuracy_score\n",
        "\n",
        "\n",
        "sgd=SGDRegressor(alpha=.1,penalty='l1',learning_rate='optimal')\n",
        "svr=SVR(kernel='poly',degree=3)\n"
      ]
    },
    {
      "cell_type": "code",
      "execution_count": null,
      "metadata": {
        "id": "1wEMqf12elHG",
        "outputId": "efef6a8f-d8fc-4809-bc5f-251bf7fbed3d"
      },
      "outputs": [
        {
          "name": "stdout",
          "output_type": "stream",
          "text": [
            "SGD score :  [-0.2180968  -0.02471116 -0.09185235 -0.07264127 -0.03990997]\n",
            "mean score :  -0.08944231022136831\n"
          ]
        }
      ],
      "source": [
        "from sklearn.metrics import make_scorer\n",
        "\n",
        "\n",
        "L=cross_val_score(sgd,X,y,cv=5)\n",
        "print('SGD score : ',L)\n",
        "print('mean score : ',L.mean())"
      ]
    },
    {
      "cell_type": "code",
      "execution_count": null,
      "metadata": {
        "id": "QNx8hKwrelHH",
        "outputId": "9f2fb787-307b-42bf-9ea5-c131d68fdbc9"
      },
      "outputs": [
        {
          "name": "stdout",
          "output_type": "stream",
          "text": [
            "SVR score :  [ 0.13827998  0.088086   -0.06733284  0.14780674 -0.00324432]\n"
          ]
        }
      ],
      "source": [
        "print('SVR score : ',cross_val_score(svr,X,y,cv=5))"
      ]
    },
    {
      "cell_type": "markdown",
      "metadata": {
        "id": "YVWIvsBwelHH"
      },
      "source": [
        "**Question 1**\n",
        "\n",
        "According to your metric, which method obtain the best result ? \n",
        "\n",
        "For SVR with polynomial kernel"
      ]
    },
    {
      "cell_type": "markdown",
      "metadata": {
        "id": "SYcG0KWzelHI"
      },
      "source": [
        "**Question 2**\n",
        "\n",
        "What is the interest of using cross validation in general ? Is it relevant in this particular case ?\n",
        "\n",
        "It is possible to see if the model is good without real validation or test set. as you have more than 20k data sample we can maybe split it in train et test data set"
      ]
    },
    {
      "cell_type": "markdown",
      "metadata": {
        "id": "LKxce-VzelHI"
      },
      "source": [
        "**To code 1.3**\n",
        "\n",
        "Transform your data according to [principal component analysis](https://scikit-learn.org/stable/modules/generated/sklearn.decomposition.PCA.html), and optimize the number of components according to the same metric than previously for both models."
      ]
    },
    {
      "cell_type": "code",
      "execution_count": 4,
      "metadata": {
        "id": "rfgsZ4WJelHI"
      },
      "outputs": [],
      "source": [
        "from sklearn.decomposition import PCA"
      ]
    },
    {
      "cell_type": "code",
      "execution_count": null,
      "metadata": {
        "id": "8wI5h6b8elHI",
        "outputId": "4d19e88f-f950-493a-e22a-1f71c29ec263"
      },
      "outputs": [
        {
          "name": "stdout",
          "output_type": "stream",
          "text": [
            "mean score  1 components :  -0.08980081887714597\n",
            "mean score  2 components :  -0.08817797915817263\n",
            "mean score  3 components :  -0.08864667124354404\n",
            "mean score  4 components :  -0.08914135888939759\n",
            "mean score  5 components :  -0.08906477246234426\n",
            "mean score  6 components :  -0.08866781759104118\n",
            "mean score  7 components :  -0.08962526411216606\n",
            "mean score  8 components :  -0.08902728683654182\n",
            "Best n_components =  2\n",
            "SGD score with  2  component(s) : [-0.21359857 -0.02468828 -0.09339172 -0.07136492 -0.04035543]\n",
            "SVR score with  2  component(s) : [-0.02877117 -0.16081697 -0.28342163 -0.00273581 -0.18936861]\n"
          ]
        }
      ],
      "source": [
        "\n",
        "L_mean_score=[]\n",
        "for i in range(1,8+1):\n",
        "    pca=PCA(n_components=i)\n",
        "    X_pca=pca.fit_transform(X,y)\n",
        "    L=cross_val_score(sgd,X_pca,y,cv=5)\n",
        "    L_mean_score.append(L.mean())\n",
        "    print('mean score ',i,'components : ' ,L.mean())\n",
        "\n",
        "ind=L_mean_score.index(max(L_mean_score))+1\n",
        "print('Best n_components = ',ind)\n",
        "pca=PCA(n_components=ind)\n",
        "X_pca=pca.fit_transform(X,y)\n",
        "print('SGD score with ',ind,' component(s) :',cross_val_score(sgd,X_pca,y,cv=5))\n",
        "print('SVR score with ',ind,' component(s) :',cross_val_score(svr,X_pca,y,cv=5))"
      ]
    },
    {
      "cell_type": "markdown",
      "metadata": {
        "id": "XAB916mUelHJ"
      },
      "source": [
        "**Question 3**\n",
        "\n",
        "What is the interest of Principal Component Analysis in general ? Is it relevant here ?\n",
        "\n",
        "Reduce dimensionality to generalize more the model. It's not really relevant here since we don't have a lot of features already "
      ]
    },
    {
      "cell_type": "markdown",
      "metadata": {
        "id": "0nmE08OcelHJ"
      },
      "source": [
        "#### Substep 2 : Classification\n",
        "\n",
        "**To do 1.4**\n",
        "\n",
        "Execute the following cells to load a subset of MNIST dataset. Since the dataset is already divided into training/test, we won't use cross validation this time."
      ]
    },
    {
      "cell_type": "code",
      "execution_count": 5,
      "metadata": {
        "id": "MSKwMiqMelHJ"
      },
      "outputs": [],
      "source": [
        "import pickle\n",
        "with open(\"data/mnist.pkl\", \"rb\") as f:\n",
        "    ((X_train, y_train), (X_test, y_test)) = pickle.load(f)"
      ]
    },
    {
      "cell_type": "markdown",
      "metadata": {
        "id": "t7wIlS0xelHJ"
      },
      "source": [
        "**To code 1.5**\n",
        "\n",
        "Compute classification on those images using a [KNN classifier](https://scikit-learn.org/stable/modules/generated/sklearn.neighbors.KNeighborsClassifier.html#sklearn.neighbors.KNeighborsClassifier) and an [Adaboost classifier](https://scikit-learn.org/stable/modules/generated/sklearn.ensemble.AdaBoostClassifier.html). For each classifier, optimize the parameters according to a relevant metric. For the KNN classifier, you will optimize the number of neighbor while for the Adaboost classifier, you will optimize the base estimator along with the number of estimators (for the basis estimator, limit yourself to different depth of decision tree classifier). \n",
        "\n",
        "Also, for each model, compute the confusion matrix."
      ]
    },
    {
      "cell_type": "code",
      "execution_count": 6,
      "metadata": {
        "id": "koDh0rfWelHK"
      },
      "outputs": [],
      "source": [
        "import numpy as np\n",
        "import matplotlib.pyplot as plt\n",
        "\n",
        "from sklearn.neighbors import KNeighborsClassifier\n",
        "from sklearn.tree import DecisionTreeClassifier\n",
        "from sklearn.ensemble import AdaBoostClassifier\n",
        "from sklearn.metrics import accuracy_score"
      ]
    },
    {
      "cell_type": "code",
      "execution_count": null,
      "metadata": {
        "id": "g6-um_fwelHK",
        "outputId": "87d52924-b324-4418-d145-4977b1c26128"
      },
      "outputs": [
        {
          "name": "stdout",
          "output_type": "stream",
          "text": [
            "1 0.524\n",
            "2 0.555\n",
            "3 0.677\n",
            "4 0.729\n",
            "5 0.762\n",
            "6 0.808\n",
            "7 0.846\n",
            "8 0.88\n",
            "9 0.895\n",
            "10 0.897\n",
            "11 0.913\n",
            "12 0.91\n",
            "13 0.911\n",
            "14 0.91\n",
            "15 0.915\n",
            "16 0.917\n",
            "17 0.909\n",
            "18 0.916\n",
            "19 0.886\n",
            "20 0.838\n",
            "21 0.761\n",
            "22 0.767\n",
            "23 0.748\n",
            "24 0.748\n",
            "max_depth that optimize accuracy is  16  with a score of  0.917\n"
          ]
        }
      ],
      "source": [
        "L_accuracy=[]\n",
        "for i in range(1,25):\n",
        "    adaboost=AdaBoostClassifier(DecisionTreeClassifier(max_depth=i))\n",
        "    adaboost.fit(X_train,y_train)\n",
        "    y_predict_ada=adaboost.predict(X_test)\n",
        "    acc=accuracy_score(y_test,y_predict_ada)\n",
        "    L_accuracy.append(acc)\n",
        "    print(i,acc)\n",
        "best_depth=L_accuracy.index(max(L_accuracy))+1\n",
        "print('max_depth that optimize accuracy is ',best_depth,' with a score of ',L_accuracy[best_depth-1])"
      ]
    },
    {
      "cell_type": "code",
      "execution_count": null,
      "metadata": {
        "id": "eU_UdP1EelHK",
        "outputId": "e9501447-0faf-4e13-cf9a-ac1dc2f33a4b"
      },
      "outputs": [
        {
          "name": "stdout",
          "output_type": "stream",
          "text": [
            "1 0.904\n",
            "2 0.9\n",
            "3 0.913\n",
            "4 0.913\n",
            "5 0.916\n",
            "6 0.913\n",
            "7 0.914\n",
            "8 0.913\n",
            "9 0.909\n",
            "10 0.906\n",
            "11 0.902\n",
            "12 0.901\n",
            "13 0.898\n",
            "14 0.895\n",
            "15 0.896\n",
            "16 0.895\n",
            "17 0.895\n",
            "18 0.898\n",
            "19 0.892\n",
            "20 0.889\n",
            "21 0.887\n",
            "22 0.886\n",
            "23 0.884\n",
            "24 0.883\n",
            "25 0.881\n",
            "26 0.879\n",
            "27 0.878\n",
            "28 0.877\n",
            "29 0.877\n",
            "n_neighboor that optimize accuracy is  5  with a score of  0.916\n"
          ]
        }
      ],
      "source": [
        "L_accuracy=[]\n",
        "for i in range(1,30):\n",
        "    knn=KNeighborsClassifier(n_neighbors=i)\n",
        "    knn.fit(X_train,y_train)\n",
        "    y_predict_knn=knn.predict(X_test)\n",
        "    acc=accuracy_score(y_test,y_predict_knn)\n",
        "    L_accuracy.append(acc)\n",
        "    print(i,acc)\n",
        "best_n_neighbors=L_accuracy.index(max(L_accuracy))+1\n",
        "print('n_neighboor that optimize accuracy is ',best_n_neighbors,' with a score of ',L_accuracy[best_n_neighbors-1])"
      ]
    },
    {
      "cell_type": "markdown",
      "metadata": {
        "id": "YmTdxuGgelHK"
      },
      "source": [
        "**Question 4**\n",
        "\n",
        "According to your metric, which method obtain the best results ? \n",
        "\n",
        "the best method for me is AdaBoost with max_depth of 17"
      ]
    },
    {
      "cell_type": "code",
      "execution_count": null,
      "metadata": {
        "id": "PCmfRSqlelHL"
      },
      "outputs": [],
      "source": [
        "best_depth=16\n",
        "adaboost=AdaBoostClassifier(DecisionTreeClassifier(max_depth=best_depth))\n",
        "adaboost.fit(X_train,y_train)\n",
        "y_predict=adaboost.predict(X_test)"
      ]
    },
    {
      "cell_type": "markdown",
      "metadata": {
        "id": "dngstvQqelHL"
      },
      "source": [
        "**Question 5**\n",
        "\n",
        "According to the confusion matrix, which class is the easiest to classify ? Which ones are the most difficult ? Which ones are the most confused with each other ?"
      ]
    },
    {
      "cell_type": "code",
      "execution_count": null,
      "metadata": {
        "id": "AbhFcNfqelHL",
        "outputId": "d0494a0e-5502-47ac-931e-7b0e129b7a32"
      },
      "outputs": [
        {
          "data": {
            "text/plain": [
              "<Figure size 432x288 with 0 Axes>"
            ]
          },
          "metadata": {},
          "output_type": "display_data"
        },
        {
          "data": {
            "image/png": "[encoded data removed]",
            "text/plain": [
              "<Figure size 432x288 with 2 Axes>"
            ]
          },
          "metadata": {},
          "output_type": "display_data"
        },
        {
          "name": "stdout",
          "output_type": "stream",
          "text": [
            "[0.9764705882352941, 0.9761904761904762, 0.8793103448275862, 0.8598130841121495, 0.9181818181818182, 0.9310344827586207, 0.9425287356321839, 0.9191919191919192, 0.7752808988764045, 0.925531914893617]\n",
            "Easiest to classify : 0\n",
            "Hardest to classify : 8\n",
            "The most confused seems to be 3 since it is sometimes predicted wrong\n"
          ]
        }
      ],
      "source": [
        "from sklearn.metrics import ConfusionMatrixDisplay,confusion_matrix\n",
        "\n",
        "plt.figure()\n",
        "ConfusionMatrixDisplay.from_estimator(adaboost,X_test,y_test)\n",
        "confusion_matrix=confusion_matrix(y_test,y_predict)\n",
        "plt.show()\n",
        "L = [0,0,0,0,0,0,0,0,0,0]\n",
        "for i in range(len(y_test)):\n",
        "    L[y_test[i]]+=1\n",
        "acc_per_label=[]\n",
        "for i in range(10):\n",
        "    acc=confusion_matrix[i,i]/L[i]\n",
        "    acc_per_label.append(acc)\n",
        "print(acc_per_label)\n",
        "print('Easiest to classify :',acc_per_label.index(max(acc_per_label)))\n",
        "print('Hardest to classify :',acc_per_label.index(min(acc_per_label)))\n",
        "print('The most confused seems to be 3 since it is sometimes predicted wrong')\n"
      ]
    },
    {
      "cell_type": "markdown",
      "metadata": {
        "id": "K3A9-WtJelHL"
      },
      "source": [
        "**Bonus** \n",
        "\n",
        "For the Adaboost classifier, explore other classifier as base estimators. What are the limitations about those estimators ?"
      ]
    },
    {
      "cell_type": "code",
      "source": [
        "import pickle\n",
        "with open(\"data/mnist.pkl\", \"rb\") as f:\n",
        "    ((X_train, y_train), (X_test, y_test)) = pickle.load(f)\n",
        "from sklearn.metrics import accuracy_score\n",
        "from sklearn.tree import DecisionTreeClassifier,ExtraTreeClassifier\n",
        "from sklearn.neighbors import KNeighborsClassifier\n",
        "from sklearn.ensemble import RandomForestClassifier\n",
        "from sklearn.naive_bayes import GaussianNB\n",
        "from sklearn.ensemble import AdaBoostClassifier\n",
        "\n",
        "\n",
        "\n",
        "adaboost=AdaBoostClassifier(GaussianNB())\n",
        "adaboost.fit(X_train,y_train)\n",
        "y_predict=adaboost.predict(X_test)\n",
        "acc=accuracy_score(y_predict,y_test)\n",
        "print('Naive bayes accuracy : ',acc)\n",
        "\n",
        "adaboost=AdaBoostClassifier(RandomForestClassifier())\n",
        "adaboost.fit(X_train,y_train)\n",
        "y_predict=adaboost.predict(X_test)\n",
        "acc=accuracy_score(y_predict,y_test)\n",
        "print('Random forest accuracy : ',acc)\n",
        "\n",
        "adaboost=AdaBoostClassifier(ExtraTreeClassifier())\n",
        "adaboost.fit(X_train,y_train)\n",
        "y_predict=adaboost.predict(X_test)\n",
        "acc=accuracy_score(y_predict,y_test)\n",
        "print('Extra tree classifier accuracy : ',acc)\n",
        "\n"
      ],
      "metadata": {
        "colab": {
          "base_uri": "https://localhost:8080/"
        },
        "id": "68szBsC91JDm",
        "outputId": "72687bcf-2a62-4b93-8c28-aa3f98fcd45c"
      },
      "execution_count": 17,
      "outputs": [
        {
          "output_type": "stream",
          "name": "stdout",
          "text": [
            "Naive bayes accuracy :  0.608\n",
            "Random forest accuracy :  0.932\n",
            "Extra tree classifier accuracy :  0.65\n"
          ]
        }
      ]
    },
    {
      "cell_type": "markdown",
      "metadata": {
        "id": "x6owGc6LelHL"
      },
      "source": [
        "**To code 1.6**\n",
        "\n",
        "Transform your data according to principal component analysis, and optimize the number of components according to the same metric than previously for each classifier.\n",
        "\n",
        "Once again, compute the confusion matrix for each model. "
      ]
    },
    {
      "cell_type": "code",
      "execution_count": null,
      "metadata": {
        "id": "juDbgXlTelHL",
        "outputId": "3a832251-c136-4f0c-a05e-0647a7deef7a"
      },
      "outputs": [
        {
          "name": "stdout",
          "output_type": "stream",
          "text": [
            "1 0.249\n",
            "51 0.934\n",
            "101 0.928\n",
            "151 0.921\n",
            "201 0.922\n",
            "251 0.92\n",
            "301 0.915\n",
            "351 0.916\n",
            "401 0.917\n"
          ]
        }
      ],
      "source": [
        "\n",
        "L_accuracy=[]\n",
        "for i in range(1,701,50):\n",
        "\n",
        "    pca=PCA(n_components=i)\n",
        "    pca.fit(X_train,y_train)\n",
        "    X_pca_train=pca.transform(X_train)\n",
        "    X_pca_test=pca.transform(X_test)\n",
        "\n",
        "    knn=KNeighborsClassifier(n_neighbors=best_n_neighbors)\n",
        "    knn.fit(X_pca_train,y_train)\n",
        "    \n",
        "    y_predict_knn=knn.predict(X_pca_test)\n",
        "    acc=accuracy_score(y_test,y_predict_knn)\n",
        "    L_accuracy.append(acc)\n",
        "    print(i,acc)\n",
        "best_pca=L_accuracy.index(max(L_accuracy))*100+1\n",
        "print('pca components that optimize accuracy is ',best_pca,' with a score of ',L_accuracy[best_pca-1])"
      ]
    },
    {
      "cell_type": "code",
      "execution_count": null,
      "metadata": {
        "id": "sATzWcj2elHL",
        "outputId": "396add1b-f2aa-4d6e-9416-0601bcc639d0"
      },
      "outputs": [
        {
          "name": "stdout",
          "output_type": "stream",
          "text": [
            "[10, 100, 300, 600, 700]\n",
            "10 0.876\n",
            "100 0.926\n",
            "300 0.915\n",
            "600 0.916\n",
            "700 0.916\n"
          ]
        }
      ],
      "source": [
        "L=[10,100,300,600,700]\n",
        "print(L)\n",
        "\n",
        "for i in L:\n",
        "    pca=PCA(n_components=i)\n",
        "    pca.fit(X_train,y_train)\n",
        "    X_pca_train=pca.transform(X_train)\n",
        "    X_pca_test=pca.transform(X_test)\n",
        "\n",
        "    knn=KNeighborsClassifier(n_neighbors=best_n_neighbors)\n",
        "    knn.fit(X_pca_train,y_train)\n",
        "        \n",
        "    y_predict_knn=knn.predict(X_pca_test)\n",
        "    acc=accuracy_score(y_test,y_predict_knn)\n",
        "    print(i,acc)"
      ]
    },
    {
      "cell_type": "markdown",
      "metadata": {
        "id": "4RBFZ1PMelHM"
      },
      "source": [
        "**Question 6**\n",
        "\n",
        "Is the use of PCA relevant here ? \n",
        "\n",
        "for n_components=100 We have 1% more so it's not bad "
      ]
    },
    {
      "cell_type": "markdown",
      "metadata": {
        "id": "ToJl-ACPelHM"
      },
      "source": [
        "**Question 7**\n",
        "\n",
        "Did your answers from question 5 changed with PCA ?"
      ]
    },
    {
      "cell_type": "code",
      "execution_count": null,
      "metadata": {
        "id": "psbwVfU0elHM",
        "outputId": "4f1a8753-5fe2-4024-c934-1e82e7511e6d"
      },
      "outputs": [
        {
          "data": {
            "text/plain": [
              "<Figure size 432x288 with 0 Axes>"
            ]
          },
          "metadata": {},
          "output_type": "display_data"
        },
        {
          "data": {
            "image/png": "[encoded data removed]",
            "text/plain": [
              "<Figure size 432x288 with 2 Axes>"
            ]
          },
          "metadata": {},
          "output_type": "display_data"
        },
        {
          "name": "stdout",
          "output_type": "stream",
          "text": [
            "[1.0, 1.0, 0.8706896551724138, 0.9065420560747663, 0.9090909090909091, 0.9310344827586207, 0.9655172413793104, 0.9292929292929293, 0.8426966292134831, 0.9361702127659575]\n"
          ]
        }
      ],
      "source": [
        "from sklearn.metrics import ConfusionMatrixDisplay,confusion_matrix\n",
        "\n",
        "pca=PCA(n_components=100)\n",
        "pca.fit(X_train,y_train)\n",
        "X_pca_train=pca.transform(X_train)\n",
        "X_pca_test=pca.transform(X_test)\n",
        "\n",
        "knn=KNeighborsClassifier(n_neighbors=best_n_neighbors)\n",
        "knn.fit(X_pca_train,y_train)\n",
        "        \n",
        "y_predict_knn=knn.predict(X_pca_test)\n",
        "acc=accuracy_score(y_test,y_predict_knn)\n",
        "\n",
        "plt.figure()\n",
        "ConfusionMatrixDisplay.from_estimator(knn,X_pca_test,y_test)\n",
        "confusion_matrix=confusion_matrix(y_test,y_predict_knn)\n",
        "plt.show()\n",
        "L = [0,0,0,0,0,0,0,0,0,0]\n",
        "for i in range(len(y_test)):\n",
        "    L[y_test[i]]+=1\n",
        "acc_per_label=[]\n",
        "for i in range(10):\n",
        "    acc=confusion_matrix[i,i]/L[i]\n",
        "    acc_per_label.append(acc)\n",
        "print(acc_per_label)"
      ]
    },
    {
      "cell_type": "markdown",
      "metadata": {
        "id": "eHFXpSakelHM"
      },
      "source": [
        "The confusion matrix looks a little better but some predictions are stil confused"
      ]
    },
    {
      "cell_type": "markdown",
      "metadata": {
        "id": "IBY-DxP5elHM"
      },
      "source": [
        "### Step 2 : AutoML\n",
        "\n",
        "In this second section, we discuss on the utilisation of AutoMl tools, such as auto-sklearn.\n",
        "If you are using colab or don't have auto-sklearn installed, you may need to run the following cell at first in order to install auto-sklearn. This will require you to restart the runtime (a prompt will invite you to). \n",
        "\n",
        "Restarting the runtime will clear all your variables and imported libraries, so you will need to import them again."
      ]
    },
    {
      "cell_type": "code",
      "execution_count": 1,
      "metadata": {
        "colab": {
          "base_uri": "https://localhost:8080/",
          "height": 1000
        },
        "id": "9n6IJEe-elHM",
        "outputId": "7f93b837-5eca-4589-b823-4d32681cea88"
      },
      "outputs": [
        {
          "output_type": "stream",
          "name": "stdout",
          "text": [
            "Looking in indexes: https://pypi.org/simple, https://us-python.pkg.dev/colab-wheels/public/simple/\n",
            "Collecting scipy==1.6\n",
            "  Downloading scipy-1.6.0-cp37-cp37m-manylinux1_x86_64.whl (27.4 MB)\n",
            "\u001b[K     |████████████████████████████████| 27.4 MB 1.2 MB/s \n",
            "\u001b[?25hCollecting numpy>=1.16.5\n",
            "  Downloading numpy-1.21.6-cp37-cp37m-manylinux_2_12_x86_64.manylinux2010_x86_64.whl (15.7 MB)\n",
            "\u001b[K     |████████████████████████████████| 15.7 MB 52.5 MB/s \n",
            "\u001b[?25hInstalling collected packages: numpy, scipy\n",
            "  Attempting uninstall: numpy\n",
            "    Found existing installation: numpy 1.21.6\n",
            "    Uninstalling numpy-1.21.6:\n",
            "      Successfully uninstalled numpy-1.21.6\n",
            "  Attempting uninstall: scipy\n",
            "    Found existing installation: scipy 1.7.3\n",
            "    Uninstalling scipy-1.7.3:\n",
            "      Successfully uninstalled scipy-1.7.3\n",
            "Successfully installed numpy-1.21.6 scipy-1.6.0\n"
          ]
        },
        {
          "output_type": "display_data",
          "data": {
            "application/vnd.colab-display-data+json": {
              "pip_warning": {
                "packages": [
                  "numpy"
                ]
              }
            }
          },
          "metadata": {}
        },
        {
          "output_type": "stream",
          "name": "stdout",
          "text": [
            "Looking in indexes: https://pypi.org/simple, https://us-python.pkg.dev/colab-wheels/public/simple/\n",
            "Collecting auto-sklearn==0.15\n",
            "  Downloading auto-sklearn-0.15.0.tar.gz (6.5 MB)\n",
            "\u001b[K     |████████████████████████████████| 6.5 MB 8.4 MB/s \n",
            "\u001b[?25h  Installing build dependencies ... \u001b[?25l\u001b[?25hdone\n",
            "  Getting requirements to build wheel ... \u001b[?25l\u001b[?25hdone\n",
            "    Preparing wheel metadata ... \u001b[?25l\u001b[?25hdone\n",
            "Collecting typing-extensions\n",
            "  Downloading typing_extensions-4.4.0-py3-none-any.whl (26 kB)\n",
            "Collecting pyrfr<0.9,>=0.8.1\n",
            "  Downloading pyrfr-0.8.3-cp37-cp37m-manylinux_2_17_x86_64.manylinux2014_x86_64.whl (4.4 MB)\n",
            "\u001b[K     |████████████████████████████████| 4.4 MB 45.0 MB/s \n",
            "\u001b[?25hCollecting threadpoolctl\n",
            "  Downloading threadpoolctl-3.1.0-py3-none-any.whl (14 kB)\n",
            "Collecting scipy>=1.7.0\n",
            "  Downloading scipy-1.7.3-cp37-cp37m-manylinux_2_12_x86_64.manylinux2010_x86_64.whl (38.1 MB)\n",
            "\u001b[K     |████████████████████████████████| 38.1 MB 1.3 MB/s \n",
            "\u001b[?25hCollecting ConfigSpace<0.5,>=0.4.21\n",
            "  Downloading ConfigSpace-0.4.21-cp37-cp37m-manylinux_2_17_x86_64.manylinux2014_x86_64.whl (4.3 MB)\n",
            "\u001b[K     |████████████████████████████████| 4.3 MB 47.7 MB/s \n",
            "\u001b[?25hCollecting dask>=2021.12\n",
            "  Downloading dask-2022.2.0-py3-none-any.whl (1.1 MB)\n",
            "\u001b[K     |████████████████████████████████| 1.1 MB 37.6 MB/s \n",
            "\u001b[?25hCollecting distro\n",
            "  Downloading distro-1.8.0-py3-none-any.whl (20 kB)\n",
            "Collecting smac<1.3,>=1.2\n",
            "  Downloading smac-1.2.tar.gz (260 kB)\n",
            "\u001b[K     |████████████████████████████████| 260 kB 57.4 MB/s \n",
            "\u001b[?25hCollecting pynisher<0.7,>=0.6.3\n",
            "  Downloading pynisher-0.6.4.tar.gz (11 kB)\n",
            "Collecting pandas>=1.0\n",
            "  Downloading pandas-1.3.5-cp37-cp37m-manylinux_2_17_x86_64.manylinux2014_x86_64.whl (11.3 MB)\n",
            "\u001b[K     |████████████████████████████████| 11.3 MB 43.6 MB/s \n",
            "\u001b[?25hCollecting liac-arff\n",
            "  Downloading liac-arff-2.5.0.tar.gz (13 kB)\n",
            "Collecting numpy>=1.9.0\n",
            "  Using cached numpy-1.21.6-cp37-cp37m-manylinux_2_12_x86_64.manylinux2010_x86_64.whl (15.7 MB)\n",
            "Collecting setuptools\n",
            "  Using cached setuptools-65.6.0-py3-none-any.whl (1.2 MB)\n",
            "Collecting pyyaml\n",
            "  Downloading PyYAML-6.0-cp37-cp37m-manylinux_2_5_x86_64.manylinux1_x86_64.manylinux_2_12_x86_64.manylinux2010_x86_64.whl (596 kB)\n",
            "\u001b[K     |████████████████████████████████| 596 kB 61.0 MB/s \n",
            "\u001b[?25hCollecting scikit-learn<0.25.0,>=0.24.0\n",
            "  Downloading scikit_learn-0.24.2-cp37-cp37m-manylinux2010_x86_64.whl (22.3 MB)\n",
            "\u001b[K     |████████████████████████████████| 22.3 MB 1.3 MB/s \n",
            "\u001b[?25hCollecting joblib\n",
            "  Downloading joblib-1.2.0-py3-none-any.whl (297 kB)\n",
            "\u001b[K     |████████████████████████████████| 297 kB 59.0 MB/s \n",
            "\u001b[?25hCollecting distributed>=2012.12\n",
            "  Downloading distributed-2022.2.0-py3-none-any.whl (837 kB)\n",
            "\u001b[K     |████████████████████████████████| 837 kB 48.7 MB/s \n",
            "\u001b[?25hCollecting pyparsing\n",
            "  Downloading pyparsing-3.0.9-py3-none-any.whl (98 kB)\n",
            "\u001b[K     |████████████████████████████████| 98 kB 7.6 MB/s \n",
            "\u001b[?25hCollecting cython\n",
            "  Downloading Cython-0.29.32-cp37-cp37m-manylinux_2_17_x86_64.manylinux2014_x86_64.manylinux_2_24_x86_64.whl (1.9 MB)\n",
            "\u001b[K     |████████████████████████████████| 1.9 MB 55.6 MB/s \n",
            "\u001b[?25hCollecting fsspec>=0.6.0\n",
            "  Downloading fsspec-2022.11.0-py3-none-any.whl (139 kB)\n",
            "\u001b[K     |████████████████████████████████| 139 kB 78.6 MB/s \n",
            "\u001b[?25hCollecting cloudpickle>=1.1.1\n",
            "  Downloading cloudpickle-2.2.0-py3-none-any.whl (25 kB)\n",
            "Collecting toolz>=0.8.2\n",
            "  Downloading toolz-0.12.0-py3-none-any.whl (55 kB)\n",
            "\u001b[K     |████████████████████████████████| 55 kB 4.3 MB/s \n",
            "\u001b[?25hCollecting packaging>=20.0\n",
            "  Downloading packaging-21.3-py3-none-any.whl (40 kB)\n",
            "\u001b[K     |████████████████████████████████| 40 kB 5.8 MB/s \n",
            "\u001b[?25hCollecting partd>=0.3.10\n",
            "  Downloading partd-1.3.0-py3-none-any.whl (18 kB)\n",
            "Collecting jinja2\n",
            "  Downloading Jinja2-3.1.2-py3-none-any.whl (133 kB)\n",
            "\u001b[K     |████████████████████████████████| 133 kB 48.5 MB/s \n",
            "\u001b[?25hCollecting tornado>=5\n",
            "  Downloading tornado-6.2-cp37-abi3-manylinux_2_5_x86_64.manylinux1_x86_64.manylinux_2_17_x86_64.manylinux2014_x86_64.whl (423 kB)\n",
            "\u001b[K     |████████████████████████████████| 423 kB 34.2 MB/s \n",
            "\u001b[?25hCollecting psutil>=5.0\n",
            "  Downloading psutil-5.9.4-cp36-abi3-manylinux_2_12_x86_64.manylinux2010_x86_64.manylinux_2_17_x86_64.manylinux2014_x86_64.whl (280 kB)\n",
            "\u001b[K     |████████████████████████████████| 280 kB 54.0 MB/s \n",
            "\u001b[?25hCollecting sortedcontainers!=2.0.0,!=2.0.1\n",
            "  Downloading sortedcontainers-2.4.0-py2.py3-none-any.whl (29 kB)\n",
            "Collecting click>=6.6\n",
            "  Downloading click-8.1.3-py3-none-any.whl (96 kB)\n",
            "\u001b[K     |████████████████████████████████| 96 kB 6.8 MB/s \n",
            "\u001b[?25hCollecting msgpack>=0.6.0\n",
            "  Downloading msgpack-1.0.4-cp37-cp37m-manylinux_2_17_x86_64.manylinux2014_x86_64.whl (299 kB)\n",
            "\u001b[K     |████████████████████████████████| 299 kB 57.4 MB/s \n",
            "\u001b[?25hCollecting zict>=0.1.3\n",
            "  Downloading zict-2.2.0-py2.py3-none-any.whl (23 kB)\n",
            "Collecting tblib>=1.6.0\n",
            "  Downloading tblib-1.7.0-py2.py3-none-any.whl (12 kB)\n",
            "Collecting importlib-metadata\n",
            "  Downloading importlib_metadata-5.0.0-py3-none-any.whl (21 kB)\n",
            "Collecting pytz>=2017.3\n",
            "  Downloading pytz-2022.6-py2.py3-none-any.whl (498 kB)\n",
            "\u001b[K     |████████████████████████████████| 498 kB 58.1 MB/s \n",
            "\u001b[?25hCollecting python-dateutil>=2.7.3\n",
            "  Downloading python_dateutil-2.8.2-py2.py3-none-any.whl (247 kB)\n",
            "\u001b[K     |████████████████████████████████| 247 kB 61.8 MB/s \n",
            "\u001b[?25hCollecting locket\n",
            "  Downloading locket-1.0.0-py2.py3-none-any.whl (4.4 kB)\n",
            "Collecting six>=1.5\n",
            "  Downloading six-1.16.0-py2.py3-none-any.whl (11 kB)\n",
            "Collecting emcee>=3.0.0\n",
            "  Downloading emcee-3.1.3-py2.py3-none-any.whl (46 kB)\n",
            "\u001b[K     |████████████████████████████████| 46 kB 4.4 MB/s \n",
            "\u001b[?25hCollecting heapdict\n",
            "  Downloading HeapDict-1.0.1-py3-none-any.whl (3.9 kB)\n",
            "Collecting zipp>=0.5\n",
            "  Downloading zipp-3.10.0-py3-none-any.whl (6.2 kB)\n",
            "Collecting MarkupSafe>=2.0\n",
            "  Downloading MarkupSafe-2.1.1-cp37-cp37m-manylinux_2_17_x86_64.manylinux2014_x86_64.whl (25 kB)\n",
            "Building wheels for collected packages: auto-sklearn, pynisher, smac, liac-arff\n",
            "  Building wheel for auto-sklearn (PEP 517) ... \u001b[?25l\u001b[?25hdone\n",
            "  Created wheel for auto-sklearn: filename=auto_sklearn-0.15.0-py3-none-any.whl size=6641947 sha256=fd6fa390da28448fbb1d56e40a26d261cdd687b0e833476a1e9b76eece06d31b\n",
            "  Stored in directory: /root/.cache/pip/wheels/26/57/ce/ca63ad74b90273f9a682028d187645a42dce5c5255228d46c8\n",
            "  Building wheel for pynisher (setup.py) ... \u001b[?25l\u001b[?25hdone\n",
            "  Created wheel for pynisher: filename=pynisher-0.6.4-py3-none-any.whl size=7044 sha256=3edd39dd4ae33c862d98c5de15af8ff2960646c27f91b5d392a833f675d6e710\n",
            "  Stored in directory: /root/.cache/pip/wheels/42/71/95/7555ec3253e1ba8add72ae5febf1b015d297f3b73ba296d6f6\n",
            "  Building wheel for smac (setup.py) ... \u001b[?25l\u001b[?25hdone\n",
            "  Created wheel for smac: filename=smac-1.2-py3-none-any.whl size=215967 sha256=014feecdf379dfe697a98c81f68e5168b03ea65030398c5fcde43701180881a1\n",
            "  Stored in directory: /root/.cache/pip/wheels/ad/95/67/6afc6b04d3715070c853d0a9d7c7b1fb822def38671dfbbb9f\n",
            "  Building wheel for liac-arff (setup.py) ... \u001b[?25l\u001b[?25hdone\n",
            "  Created wheel for liac-arff: filename=liac_arff-2.5.0-py3-none-any.whl size=11730 sha256=910a30402f92cf651ceb58b5241e3c814f6d29312e37cb4179f196e242d8dff7\n",
            "  Stored in directory: /root/.cache/pip/wheels/1f/0f/15/332ca86cbebf25ddf98518caaf887945fbe1712b97a0f2493b\n",
            "Successfully built auto-sklearn pynisher smac liac-arff\n",
            "Installing collected packages: zipp, typing-extensions, toolz, pyparsing, locket, pyyaml, partd, packaging, numpy, MarkupSafe, importlib-metadata, heapdict, fsspec, cloudpickle, zict, tornado, threadpoolctl, tblib, sortedcontainers, six, setuptools, scipy, psutil, msgpack, joblib, jinja2, dask, cython, click, scikit-learn, pytz, python-dateutil, pyrfr, pynisher, emcee, distributed, ConfigSpace, smac, pandas, liac-arff, distro, auto-sklearn\n",
            "  Attempting uninstall: zipp\n",
            "    Found existing installation: zipp 3.10.0\n",
            "    Uninstalling zipp-3.10.0:\n",
            "      Successfully uninstalled zipp-3.10.0\n",
            "  Attempting uninstall: typing-extensions\n",
            "    Found existing installation: typing-extensions 4.1.1\n",
            "    Uninstalling typing-extensions-4.1.1:\n",
            "      Successfully uninstalled typing-extensions-4.1.1\n",
            "  Attempting uninstall: toolz\n",
            "    Found existing installation: toolz 0.12.0\n",
            "    Uninstalling toolz-0.12.0:\n",
            "      Successfully uninstalled toolz-0.12.0\n",
            "  Attempting uninstall: pyparsing\n",
            "    Found existing installation: pyparsing 3.0.9\n",
            "    Uninstalling pyparsing-3.0.9:\n",
            "      Successfully uninstalled pyparsing-3.0.9\n",
            "  Attempting uninstall: locket\n",
            "    Found existing installation: locket 1.0.0\n",
            "    Uninstalling locket-1.0.0:\n",
            "      Successfully uninstalled locket-1.0.0\n",
            "  Attempting uninstall: pyyaml\n",
            "    Found existing installation: PyYAML 6.0\n",
            "    Uninstalling PyYAML-6.0:\n",
            "      Successfully uninstalled PyYAML-6.0\n",
            "  Attempting uninstall: partd\n",
            "    Found existing installation: partd 1.3.0\n",
            "    Uninstalling partd-1.3.0:\n",
            "      Successfully uninstalled partd-1.3.0\n",
            "  Attempting uninstall: packaging\n",
            "    Found existing installation: packaging 21.3\n",
            "    Uninstalling packaging-21.3:\n",
            "      Successfully uninstalled packaging-21.3\n",
            "  Attempting uninstall: numpy\n",
            "    Found existing installation: numpy 1.21.6\n",
            "    Uninstalling numpy-1.21.6:\n",
            "      Successfully uninstalled numpy-1.21.6\n",
            "  Attempting uninstall: MarkupSafe\n",
            "    Found existing installation: MarkupSafe 2.0.1\n",
            "    Uninstalling MarkupSafe-2.0.1:\n",
            "      Successfully uninstalled MarkupSafe-2.0.1\n",
            "  Attempting uninstall: importlib-metadata\n",
            "    Found existing installation: importlib-metadata 4.13.0\n",
            "    Uninstalling importlib-metadata-4.13.0:\n",
            "      Successfully uninstalled importlib-metadata-4.13.0\n",
            "  Attempting uninstall: heapdict\n",
            "    Found existing installation: HeapDict 1.0.1\n",
            "    Uninstalling HeapDict-1.0.1:\n",
            "      Successfully uninstalled HeapDict-1.0.1\n",
            "  Attempting uninstall: fsspec\n",
            "    Found existing installation: fsspec 2022.10.0\n",
            "    Uninstalling fsspec-2022.10.0:\n",
            "      Successfully uninstalled fsspec-2022.10.0\n",
            "  Attempting uninstall: cloudpickle\n",
            "    Found existing installation: cloudpickle 1.5.0\n",
            "    Uninstalling cloudpickle-1.5.0:\n",
            "      Successfully uninstalled cloudpickle-1.5.0\n",
            "  Attempting uninstall: zict\n",
            "    Found existing installation: zict 2.2.0\n",
            "    Uninstalling zict-2.2.0:\n",
            "      Successfully uninstalled zict-2.2.0\n",
            "  Attempting uninstall: tornado\n",
            "    Found existing installation: tornado 6.0.4\n",
            "    Uninstalling tornado-6.0.4:\n",
            "      Successfully uninstalled tornado-6.0.4\n",
            "  Attempting uninstall: threadpoolctl\n",
            "    Found existing installation: threadpoolctl 3.1.0\n",
            "    Uninstalling threadpoolctl-3.1.0:\n",
            "      Successfully uninstalled threadpoolctl-3.1.0\n",
            "  Attempting uninstall: tblib\n",
            "    Found existing installation: tblib 1.7.0\n",
            "    Uninstalling tblib-1.7.0:\n",
            "      Successfully uninstalled tblib-1.7.0\n",
            "  Attempting uninstall: sortedcontainers\n",
            "    Found existing installation: sortedcontainers 2.4.0\n",
            "    Uninstalling sortedcontainers-2.4.0:\n",
            "      Successfully uninstalled sortedcontainers-2.4.0\n",
            "  Attempting uninstall: six\n",
            "    Found existing installation: six 1.15.0\n",
            "    Uninstalling six-1.15.0:\n",
            "      Successfully uninstalled six-1.15.0\n",
            "  Attempting uninstall: setuptools\n",
            "    Found existing installation: setuptools 57.4.0\n",
            "    Uninstalling setuptools-57.4.0:\n",
            "      Successfully uninstalled setuptools-57.4.0\n",
            "  Attempting uninstall: scipy\n",
            "    Found existing installation: scipy 1.6.0\n",
            "    Uninstalling scipy-1.6.0:\n",
            "      Successfully uninstalled scipy-1.6.0\n",
            "  Attempting uninstall: psutil\n",
            "    Found existing installation: psutil 5.4.8\n",
            "    Uninstalling psutil-5.4.8:\n",
            "      Successfully uninstalled psutil-5.4.8\n",
            "  Attempting uninstall: msgpack\n",
            "    Found existing installation: msgpack 1.0.4\n",
            "    Uninstalling msgpack-1.0.4:\n",
            "      Successfully uninstalled msgpack-1.0.4\n",
            "  Attempting uninstall: joblib\n",
            "    Found existing installation: joblib 1.2.0\n",
            "    Uninstalling joblib-1.2.0:\n",
            "      Successfully uninstalled joblib-1.2.0\n",
            "  Attempting uninstall: jinja2\n",
            "    Found existing installation: Jinja2 2.11.3\n",
            "    Uninstalling Jinja2-2.11.3:\n",
            "      Successfully uninstalled Jinja2-2.11.3\n",
            "  Attempting uninstall: dask\n",
            "    Found existing installation: dask 2022.2.0\n",
            "    Uninstalling dask-2022.2.0:\n",
            "      Successfully uninstalled dask-2022.2.0\n",
            "  Attempting uninstall: cython\n",
            "    Found existing installation: Cython 0.29.32\n",
            "    Uninstalling Cython-0.29.32:\n",
            "      Successfully uninstalled Cython-0.29.32\n",
            "  Attempting uninstall: click\n",
            "    Found existing installation: click 7.1.2\n",
            "    Uninstalling click-7.1.2:\n",
            "      Successfully uninstalled click-7.1.2\n",
            "  Attempting uninstall: scikit-learn\n",
            "    Found existing installation: scikit-learn 1.0.2\n",
            "    Uninstalling scikit-learn-1.0.2:\n",
            "      Successfully uninstalled scikit-learn-1.0.2\n",
            "  Attempting uninstall: pytz\n",
            "    Found existing installation: pytz 2022.6\n",
            "    Uninstalling pytz-2022.6:\n",
            "      Successfully uninstalled pytz-2022.6\n",
            "  Attempting uninstall: python-dateutil\n",
            "    Found existing installation: python-dateutil 2.8.2\n",
            "    Uninstalling python-dateutil-2.8.2:\n",
            "      Successfully uninstalled python-dateutil-2.8.2\n",
            "  Attempting uninstall: distributed\n",
            "    Found existing installation: distributed 2022.2.0\n",
            "    Uninstalling distributed-2022.2.0:\n",
            "      Successfully uninstalled distributed-2022.2.0\n",
            "  Attempting uninstall: pandas\n",
            "    Found existing installation: pandas 1.3.5\n",
            "    Uninstalling pandas-1.3.5:\n",
            "      Successfully uninstalled pandas-1.3.5\n",
            "\u001b[31mERROR: pip's dependency resolver does not currently take into account all the packages that are installed. This behaviour is the source of the following dependency conflicts.\n",
            "ipython 7.9.0 requires jedi>=0.10, which is not installed.\n",
            "yellowbrick 1.5 requires scikit-learn>=1.0.0, but you have scikit-learn 0.24.2 which is incompatible.\n",
            "thinc 8.1.5 requires typing-extensions<4.2.0,>=3.7.4.1; python_version < \"3.8\", but you have typing-extensions 4.4.0 which is incompatible.\n",
            "spacy 3.4.2 requires typing-extensions<4.2.0,>=3.7.4; python_version < \"3.8\", but you have typing-extensions 4.4.0 which is incompatible.\n",
            "notebook 5.7.16 requires jinja2<=3.0.0, but you have jinja2 3.1.2 which is incompatible.\n",
            "google-colab 1.0.0 requires tornado~=6.0.4, but you have tornado 6.2 which is incompatible.\n",
            "flask 1.1.4 requires click<8.0,>=5.1, but you have click 8.1.3 which is incompatible.\n",
            "flask 1.1.4 requires Jinja2<3.0,>=2.10.1, but you have jinja2 3.1.2 which is incompatible.\n",
            "confection 0.0.3 requires typing-extensions<4.2.0,>=3.7.4.1; python_version < \"3.8\", but you have typing-extensions 4.4.0 which is incompatible.\u001b[0m\n",
            "Successfully installed ConfigSpace-0.4.21 MarkupSafe-2.1.1 auto-sklearn-0.15.0 click-8.1.3 cloudpickle-2.2.0 cython-0.29.32 dask-2022.2.0 distributed-2022.2.0 distro-1.8.0 emcee-3.1.3 fsspec-2022.11.0 heapdict-1.0.1 importlib-metadata-5.0.0 jinja2-3.1.2 joblib-1.2.0 liac-arff-2.5.0 locket-1.0.0 msgpack-1.0.4 numpy-1.21.6 packaging-21.3 pandas-1.3.5 partd-1.3.0 psutil-5.9.4 pynisher-0.6.4 pyparsing-3.0.9 pyrfr-0.8.3 python-dateutil-2.8.2 pytz-2022.6 pyyaml-6.0 scikit-learn-0.24.2 scipy-1.7.3 setuptools-65.6.0 six-1.16.0 smac-1.2 sortedcontainers-2.4.0 tblib-1.7.0 threadpoolctl-3.1.0 toolz-0.12.0 tornado-6.2 typing-extensions-4.4.0 zict-2.2.0 zipp-3.10.0\n"
          ]
        },
        {
          "output_type": "display_data",
          "data": {
            "application/vnd.colab-display-data+json": {
              "pip_warning": {
                "packages": [
                  "dateutil",
                  "numpy",
                  "pkg_resources",
                  "psutil",
                  "six",
                  "tornado"
                ]
              }
            }
          },
          "metadata": {}
        }
      ],
      "source": [
        "%pip install --force-reinstall scipy==1.6\n",
        "%pip install --force-reinstall auto-sklearn==0.15"
      ]
    },
    {
      "cell_type": "markdown",
      "metadata": {
        "id": "OAMV8_84elHM"
      },
      "source": [
        "**To do 2.1**\n",
        "\n",
        "Execute the following cells.  "
      ]
    },
    {
      "cell_type": "code",
      "execution_count": 1,
      "metadata": {
        "id": "7iRnREEGelHM"
      },
      "outputs": [],
      "source": [
        "from sklearn.datasets import fetch_california_housing\n",
        "from sklearn.model_selection import train_test_split\n",
        "X, y = fetch_california_housing(return_X_y = True)\n",
        "X_train, X_test, y_train, y_test = train_test_split(X, y, test_size=0.2, random_state=42)"
      ]
    },
    {
      "cell_type": "code",
      "execution_count": 16,
      "metadata": {
        "colab": {
          "base_uri": "https://localhost:8080/"
        },
        "id": "xlpmsy0felHM",
        "outputId": "0304a9c4-4721-4d78-f8b2-f6c0043b6e1c"
      },
      "outputs": [
        {
          "output_type": "stream",
          "name": "stdout",
          "text": [
            "[WARNING] [2022-11-19 11:49:10,459:Client-AutoMLSMBO(1)::California_Housing] Configuration 39 not found\n",
            "[WARNING] [2022-11-19 11:49:10,459:Client-AutoMLSMBO(1)::California_Housing] Configuration 201 not found\n",
            "[WARNING] [2022-11-19 11:49:10,460:Client-AutoMLSMBO(1)::California_Housing] Configuration 207 not found\n",
            "[WARNING] [2022-11-19 11:49:10,460:Client-AutoMLSMBO(1)::California_Housing] Configuration 107 not found\n",
            "[WARNING] [2022-11-19 11:49:10,460:Client-AutoMLSMBO(1)::California_Housing] Configuration 31 not found\n",
            "[WARNING] [2022-11-19 11:49:10,460:Client-AutoMLSMBO(1)::California_Housing] Configuration 102 not found\n",
            "[WARNING] [2022-11-19 11:49:10,460:Client-AutoMLSMBO(1)::California_Housing] Configuration 279 not found\n",
            "[WARNING] [2022-11-19 11:49:10,460:Client-AutoMLSMBO(1)::California_Housing] Configuration 89 not found\n",
            "[WARNING] [2022-11-19 11:49:10,460:Client-AutoMLSMBO(1)::California_Housing] Configuration 156 not found\n",
            "[WARNING] [2022-11-19 11:49:10,460:Client-AutoMLSMBO(1)::California_Housing] Configuration 63 not found\n",
            "[WARNING] [2022-11-19 11:49:10,460:Client-AutoMLSMBO(1)::California_Housing] Configuration 54 not found\n",
            "[WARNING] [2022-11-19 11:49:10,460:Client-AutoMLSMBO(1)::California_Housing] Configuration 274 not found\n",
            "[WARNING] [2022-11-19 11:49:10,460:Client-AutoMLSMBO(1)::California_Housing] Configuration 6 not found\n",
            "[WARNING] [2022-11-19 11:49:10,460:Client-AutoMLSMBO(1)::California_Housing] Configuration 217 not found\n",
            "[WARNING] [2022-11-19 11:49:10,460:Client-AutoMLSMBO(1)::California_Housing] Configuration 182 not found\n",
            "[WARNING] [2022-11-19 11:49:10,460:Client-AutoMLSMBO(1)::California_Housing] Configuration 73 not found\n",
            "[WARNING] [2022-11-19 11:49:10,461:Client-AutoMLSMBO(1)::California_Housing] Configuration 13 not found\n",
            "[WARNING] [2022-11-19 11:49:10,461:Client-AutoMLSMBO(1)::California_Housing] Configuration 199 not found\n",
            "[WARNING] [2022-11-19 11:49:10,461:Client-AutoMLSMBO(1)::California_Housing] Configuration 126 not found\n",
            "[WARNING] [2022-11-19 11:49:10,461:Client-AutoMLSMBO(1)::California_Housing] Configuration 95 not found\n",
            "[WARNING] [2022-11-19 11:49:10,461:Client-AutoMLSMBO(1)::California_Housing] Configuration 225 not found\n",
            "[WARNING] [2022-11-19 11:49:10,461:Client-AutoMLSMBO(1)::California_Housing] Configuration 28 not found\n",
            "[WARNING] [2022-11-19 11:49:10,461:Client-AutoMLSMBO(1)::California_Housing] Configuration 150 not found\n",
            "[WARNING] [2022-11-19 11:49:10,461:Client-AutoMLSMBO(1)::California_Housing] Configuration 66 not found\n",
            "[WARNING] [2022-11-19 11:49:10,461:Client-AutoMLSMBO(1)::California_Housing] Configuration 224 not found\n",
            "[WARNING] [2022-11-19 11:49:10,461:Client-AutoMLSMBO(1)::California_Housing] Configuration 174 not found\n",
            "[WARNING] [2022-11-19 11:49:10,461:Client-AutoMLSMBO(1)::California_Housing] Configuration 50 not found\n",
            "[WARNING] [2022-11-19 11:49:10,461:Client-AutoMLSMBO(1)::California_Housing] Configuration 160 not found\n",
            "[WARNING] [2022-11-19 11:49:10,461:Client-AutoMLSMBO(1)::California_Housing] Configuration 77 not found\n",
            "[WARNING] [2022-11-19 11:49:10,461:Client-AutoMLSMBO(1)::California_Housing] Configuration 115 not found\n",
            "[WARNING] [2022-11-19 11:49:10,465:Client-AutoMLSMBO(1)::California_Housing] Configuration 26 not found\n",
            "[WARNING] [2022-11-19 11:49:10,466:Client-AutoMLSMBO(1)::California_Housing] Configuration 184 not found\n",
            "[WARNING] [2022-11-19 11:49:10,466:Client-AutoMLSMBO(1)::California_Housing] Configuration 10 not found\n",
            "[WARNING] [2022-11-19 11:49:10,466:Client-AutoMLSMBO(1)::California_Housing] Configuration 119 not found\n",
            "[WARNING] [2022-11-19 11:49:10,473:Client-AutoMLSMBO(1)::California_Housing] Configuration 276 not found\n",
            "[WARNING] [2022-11-19 11:49:10,473:Client-AutoMLSMBO(1)::California_Housing] Configuration 40 not found\n",
            "[WARNING] [2022-11-19 11:49:10,473:Client-AutoMLSMBO(1)::California_Housing] Configuration 43 not found\n",
            "[WARNING] [2022-11-19 11:49:10,473:Client-AutoMLSMBO(1)::California_Housing] Configuration 92 not found\n",
            "[WARNING] [2022-11-19 11:49:10,473:Client-AutoMLSMBO(1)::California_Housing] Configuration 191 not found\n",
            "[WARNING] [2022-11-19 11:49:10,473:Client-AutoMLSMBO(1)::California_Housing] Configuration 158 not found\n",
            "[WARNING] [2022-11-19 11:49:10,473:Client-AutoMLSMBO(1)::California_Housing] Configuration 258 not found\n",
            "[WARNING] [2022-11-19 11:49:10,473:Client-AutoMLSMBO(1)::California_Housing] Configuration 186 not found\n",
            "[WARNING] [2022-11-19 11:49:10,473:Client-AutoMLSMBO(1)::California_Housing] Configuration 193 not found\n",
            "[WARNING] [2022-11-19 11:49:10,473:Client-AutoMLSMBO(1)::California_Housing] Configuration 144 not found\n",
            "[WARNING] [2022-11-19 11:49:10,474:Client-AutoMLSMBO(1)::California_Housing] Configuration 2 not found\n",
            "[WARNING] [2022-11-19 11:49:10,474:Client-AutoMLSMBO(1)::California_Housing] Configuration 98 not found\n",
            "[WARNING] [2022-11-19 11:49:10,474:Client-AutoMLSMBO(1)::California_Housing] Configuration 237 not found\n",
            "[WARNING] [2022-11-19 11:49:10,474:Client-AutoMLSMBO(1)::California_Housing] Configuration 262 not found\n",
            "[WARNING] [2022-11-19 11:49:10,474:Client-AutoMLSMBO(1)::California_Housing] Configuration 171 not found\n",
            "[WARNING] [2022-11-19 11:49:10,474:Client-AutoMLSMBO(1)::California_Housing] Configuration 57 not found\n",
            "[WARNING] [2022-11-19 11:49:10,474:Client-AutoMLSMBO(1)::California_Housing] Configuration 176 not found\n",
            "[WARNING] [2022-11-19 11:49:10,476:Client-AutoMLSMBO(1)::California_Housing] Configuration 132 not found\n",
            "[WARNING] [2022-11-19 11:49:10,477:Client-AutoMLSMBO(1)::California_Housing] Configuration 268 not found\n",
            "[WARNING] [2022-11-19 11:49:10,477:Client-AutoMLSMBO(1)::California_Housing] Configuration 105 not found\n",
            "[WARNING] [2022-11-19 11:49:10,477:Client-AutoMLSMBO(1)::California_Housing] Configuration 34 not found\n",
            "[WARNING] [2022-11-19 11:49:10,477:Client-AutoMLSMBO(1)::California_Housing] Configuration 67 not found\n",
            "[WARNING] [2022-11-19 11:49:10,477:Client-AutoMLSMBO(1)::California_Housing] Configuration 70 not found\n",
            "[WARNING] [2022-11-19 11:49:10,477:Client-AutoMLSMBO(1)::California_Housing] Configuration 270 not found\n",
            "[WARNING] [2022-11-19 11:49:10,477:Client-AutoMLSMBO(1)::California_Housing] Configuration 235 not found\n",
            "[WARNING] [2022-11-19 11:49:10,477:Client-AutoMLSMBO(1)::California_Housing] Configuration 163 not found\n",
            "[WARNING] [2022-11-19 11:49:10,477:Client-AutoMLSMBO(1)::California_Housing] Configuration 86 not found\n",
            "[WARNING] [2022-11-19 11:49:10,477:Client-AutoMLSMBO(1)::California_Housing] Configuration 245 not found\n",
            "[WARNING] [2022-11-19 11:49:10,477:Client-AutoMLSMBO(1)::California_Housing] Configuration 266 not found\n",
            "[WARNING] [2022-11-19 11:49:10,477:Client-AutoMLSMBO(1)::California_Housing] Configuration 285 not found\n",
            "[WARNING] [2022-11-19 11:49:10,477:Client-AutoMLSMBO(1)::California_Housing] Configuration 23 not found\n",
            "[WARNING] [2022-11-19 11:49:10,478:Client-AutoMLSMBO(1)::California_Housing] Configuration 124 not found\n",
            "[WARNING] [2022-11-19 11:49:10,478:Client-AutoMLSMBO(1)::California_Housing] Configuration 251 not found\n",
            "[WARNING] [2022-11-19 11:49:10,479:Client-AutoMLSMBO(1)::California_Housing] Configuration 140 not found\n",
            "[WARNING] [2022-11-19 11:49:10,479:Client-AutoMLSMBO(1)::California_Housing] Configuration 240 not found\n",
            "[WARNING] [2022-11-19 11:49:10,479:Client-AutoMLSMBO(1)::California_Housing] Configuration 197 not found\n",
            "[WARNING] [2022-11-19 11:49:10,479:Client-AutoMLSMBO(1)::California_Housing] Configuration 257 not found\n",
            "[WARNING] [2022-11-19 11:49:10,479:Client-AutoMLSMBO(1)::California_Housing] Configuration 128 not found\n",
            "[WARNING] [2022-11-19 11:49:10,479:Client-AutoMLSMBO(1)::California_Housing] Configuration 58 not found\n",
            "[WARNING] [2022-11-19 11:49:10,479:Client-AutoMLSMBO(1)::California_Housing] Configuration 282 not found\n",
            "[WARNING] [2022-11-19 11:49:10,479:Client-AutoMLSMBO(1)::California_Housing] Configuration 48 not found\n",
            "[WARNING] [2022-11-19 11:49:10,479:Client-AutoMLSMBO(1)::California_Housing] Configuration 138 not found\n",
            "[WARNING] [2022-11-19 11:49:10,479:Client-AutoMLSMBO(1)::California_Housing] Configuration 252 not found\n",
            "[WARNING] [2022-11-19 11:49:10,479:Client-AutoMLSMBO(1)::California_Housing] Configuration 101 not found\n",
            "[WARNING] [2022-11-19 11:49:10,479:Client-AutoMLSMBO(1)::California_Housing] Configuration 168 not found\n",
            "[WARNING] [2022-11-19 11:49:10,479:Client-AutoMLSMBO(1)::California_Housing] Configuration 221 not found\n",
            "[WARNING] [2022-11-19 11:49:10,479:Client-AutoMLSMBO(1)::California_Housing] Configuration 148 not found\n",
            "[WARNING] [2022-11-19 11:49:10,479:Client-AutoMLSMBO(1)::California_Housing] Configuration 228 not found\n",
            "[WARNING] [2022-11-19 11:49:10,480:Client-AutoMLSMBO(1)::California_Housing] Configuration 153 not found\n",
            "[WARNING] [2022-11-19 11:49:10,480:Client-AutoMLSMBO(1)::California_Housing] Configuration 136 not found\n",
            "[WARNING] [2022-11-19 11:49:10,480:Client-AutoMLSMBO(1)::California_Housing] Configuration 179 not found\n",
            "[WARNING] [2022-11-19 11:49:10,480:Client-AutoMLSMBO(1)::California_Housing] Configuration 204 not found\n",
            "[WARNING] [2022-11-19 11:49:10,480:Client-AutoMLSMBO(1)::California_Housing] Configuration 110 not found\n",
            "          rank  ensemble_weight        type      cost  duration\n",
            "model_id                                                       \n",
            "2            1             0.96  libsvm_svr  0.276724  16.44072\n",
            "10           2             0.04         sgd  0.466579   1.04991\n",
            "MSE =  0.37585508581029\n",
            "MRE =  0.41210329611784696\n"
          ]
        }
      ],
      "source": [
        "import autosklearn.regression\n",
        "import sklearn.model_selection\n",
        "import sklearn.datasets\n",
        "import os, shutil\n",
        "from sklearn.metrics import mean_squared_error, mean_absolute_error\n",
        "\n",
        "automl = autosklearn.regression.AutoSklearnRegressor(\n",
        "    include = {'regressor': [\"libsvm_svr\", \"sgd\"]},\n",
        "    time_left_for_this_task=360,\n",
        "    per_run_time_limit=90,\n",
        "    #tmp_folder='/tmp/california_housing_tmp',\n",
        ")\n",
        "automl.fit(X_train, y_train, dataset_name='California_Housing')\n",
        "\n",
        "print(automl.leaderboard())\n",
        "\n",
        "y_pred = automl.predict(X_test, y_test)\n",
        "print(\"MSE = \", mean_squared_error(y_test, y_pred))\n",
        "print(\"MRE = \", mean_absolute_error(y_test, y_pred))"
      ]
    },
    {
      "cell_type": "code",
      "execution_count": 17,
      "metadata": {
        "colab": {
          "base_uri": "https://localhost:8080/"
        },
        "id": "LHoSNHU0elHN",
        "outputId": "2adb19c6-ff0e-4ba8-bd5d-079be3b55685"
      },
      "outputs": [
        {
          "output_type": "stream",
          "name": "stdout",
          "text": [
            "{   2: {   'cost': 0.2767239824457497,\n",
            "           'data_preprocessor': <autosklearn.pipeline.components.data_preprocessing.DataPreprocessorChoice object at 0x7fc84df78e10>,\n",
            "           'ensemble_weight': 0.96,\n",
            "           'feature_preprocessor': <autosklearn.pipeline.components.feature_preprocessing.FeaturePreprocessorChoice object at 0x7fc84e043e90>,\n",
            "           'model_id': 2,\n",
            "           'rank': 1,\n",
            "           'regressor': <autosklearn.pipeline.components.regression.RegressorChoice object at 0x7fc84e043f10>,\n",
            "           'sklearn_regressor': SVR(cache_size=1812.7291666666667, gamma=0.1, verbose=0)},\n",
            "    10: {   'cost': 0.46657857467568276,\n",
            "            'data_preprocessor': <autosklearn.pipeline.components.data_preprocessing.DataPreprocessorChoice object at 0x7fc84df25150>,\n",
            "            'ensemble_weight': 0.04,\n",
            "            'feature_preprocessor': <autosklearn.pipeline.components.feature_preprocessing.FeaturePreprocessorChoice object at 0x7fc84e347510>,\n",
            "            'model_id': 10,\n",
            "            'rank': 2,\n",
            "            'regressor': <autosklearn.pipeline.components.regression.RegressorChoice object at 0x7fc84e043d90>,\n",
            "            'sklearn_regressor': SGDRegressor(alpha=0.01806079811541296, eta0=0.015540128437738566,\n",
            "             l1_ratio=0.9326390049807726, learning_rate='constant', max_iter=32,\n",
            "             penalty='elasticnet', power_t=0.5, random_state=1,\n",
            "             tol=0.00010576654619459039, warm_start=True)}}\n"
          ]
        }
      ],
      "source": [
        "from pprint import pprint\n",
        "pprint(automl.show_models(), indent=4)"
      ]
    },
    {
      "cell_type": "markdown",
      "metadata": {
        "id": "RRLHJbrmelHN"
      },
      "source": [
        "**Question 8**\n",
        "\n",
        "What are the evaluated models by autoML ? \n",
        "Which model obtain the best performance ? \n",
        "What are the parameters of the best model ?\n",
        "\n",
        "the models evaluated are SVR and SGD. The best model is SVR with parameters : cache_size=1928.6380208333333, gamma=0.1, verbose=0"
      ]
    },
    {
      "cell_type": "markdown",
      "metadata": {
        "id": "21nt2potelHN"
      },
      "source": [
        "**To code 2.2**\n",
        "\n",
        "With the help of the previous code, use autoML for the classification task on MNIST, by limiting the exploration to KNN and Adaboost."
      ]
    },
    {
      "cell_type": "code",
      "execution_count": 18,
      "metadata": {
        "id": "9dCDgv8IelHN"
      },
      "outputs": [],
      "source": [
        "import autosklearn.regression\n",
        "import autosklearn.classification\n",
        "import sklearn.model_selection\n",
        "import sklearn.datasets\n",
        "import os, shutil\n",
        "from sklearn.metrics import mean_squared_error, mean_absolute_error\n",
        "from sklearn.metrics import accuracy_score\n",
        "\n",
        "\n",
        "import pickle\n",
        "with open(\"data/mnist.pkl\", \"rb\") as f:\n",
        "    ((X_train, y_train), (X_test, y_test)) = pickle.load(f)\n",
        "\n"
      ]
    },
    {
      "cell_type": "code",
      "execution_count": 19,
      "metadata": {
        "id": "3H-29pwEelHN",
        "colab": {
          "base_uri": "https://localhost:8080/"
        },
        "outputId": "9e205ca5-962d-46c7-b832-9e4d4760db2e"
      },
      "outputs": [
        {
          "output_type": "stream",
          "name": "stdout",
          "text": [
            "[WARNING] [2022-11-19 11:55:11,474:Client-AutoMLSMBO(1)::03c7523a-6801-11ed-80e0-0242ac1c0002] Configuration 445 not found\n",
            "[WARNING] [2022-11-19 11:55:11,474:Client-AutoMLSMBO(1)::03c7523a-6801-11ed-80e0-0242ac1c0002] Configuration 571 not found\n",
            "[WARNING] [2022-11-19 11:55:11,474:Client-AutoMLSMBO(1)::03c7523a-6801-11ed-80e0-0242ac1c0002] Configuration 617 not found\n",
            "[WARNING] [2022-11-19 11:55:11,474:Client-AutoMLSMBO(1)::03c7523a-6801-11ed-80e0-0242ac1c0002] Configuration 112 not found\n",
            "[WARNING] [2022-11-19 11:55:11,474:Client-AutoMLSMBO(1)::03c7523a-6801-11ed-80e0-0242ac1c0002] Configuration 121 not found\n",
            "[WARNING] [2022-11-19 11:55:11,474:Client-AutoMLSMBO(1)::03c7523a-6801-11ed-80e0-0242ac1c0002] Configuration 707 not found\n",
            "[WARNING] [2022-11-19 11:55:11,474:Client-AutoMLSMBO(1)::03c7523a-6801-11ed-80e0-0242ac1c0002] Configuration 124 not found\n",
            "[WARNING] [2022-11-19 11:55:11,474:Client-AutoMLSMBO(1)::03c7523a-6801-11ed-80e0-0242ac1c0002] Configuration 237 not found\n",
            "[WARNING] [2022-11-19 11:55:11,474:Client-AutoMLSMBO(1)::03c7523a-6801-11ed-80e0-0242ac1c0002] Configuration 615 not found\n",
            "[WARNING] [2022-11-19 11:55:11,475:Client-AutoMLSMBO(1)::03c7523a-6801-11ed-80e0-0242ac1c0002] Configuration 83 not found\n",
            "[WARNING] [2022-11-19 11:55:11,475:Client-AutoMLSMBO(1)::03c7523a-6801-11ed-80e0-0242ac1c0002] Configuration 683 not found\n",
            "[WARNING] [2022-11-19 11:55:11,475:Client-AutoMLSMBO(1)::03c7523a-6801-11ed-80e0-0242ac1c0002] Configuration 555 not found\n",
            "[WARNING] [2022-11-19 11:55:11,475:Client-AutoMLSMBO(1)::03c7523a-6801-11ed-80e0-0242ac1c0002] Configuration 480 not found\n",
            "[WARNING] [2022-11-19 11:55:11,475:Client-AutoMLSMBO(1)::03c7523a-6801-11ed-80e0-0242ac1c0002] Configuration 97 not found\n",
            "[WARNING] [2022-11-19 11:55:11,475:Client-AutoMLSMBO(1)::03c7523a-6801-11ed-80e0-0242ac1c0002] Configuration 352 not found\n",
            "[WARNING] [2022-11-19 11:55:11,475:Client-AutoMLSMBO(1)::03c7523a-6801-11ed-80e0-0242ac1c0002] Configuration 434 not found\n",
            "[WARNING] [2022-11-19 11:55:11,475:Client-AutoMLSMBO(1)::03c7523a-6801-11ed-80e0-0242ac1c0002] Configuration 485 not found\n",
            "[WARNING] [2022-11-19 11:55:11,475:Client-AutoMLSMBO(1)::03c7523a-6801-11ed-80e0-0242ac1c0002] Configuration 129 not found\n",
            "[WARNING] [2022-11-19 11:55:11,475:Client-AutoMLSMBO(1)::03c7523a-6801-11ed-80e0-0242ac1c0002] Configuration 647 not found\n",
            "[WARNING] [2022-11-19 11:55:11,475:Client-AutoMLSMBO(1)::03c7523a-6801-11ed-80e0-0242ac1c0002] Configuration 528 not found\n",
            "[WARNING] [2022-11-19 11:55:11,475:Client-AutoMLSMBO(1)::03c7523a-6801-11ed-80e0-0242ac1c0002] Configuration 403 not found\n",
            "[WARNING] [2022-11-19 11:55:11,475:Client-AutoMLSMBO(1)::03c7523a-6801-11ed-80e0-0242ac1c0002] Configuration 595 not found\n",
            "[WARNING] [2022-11-19 11:55:11,475:Client-AutoMLSMBO(1)::03c7523a-6801-11ed-80e0-0242ac1c0002] Configuration 494 not found\n",
            "[WARNING] [2022-11-19 11:55:11,475:Client-AutoMLSMBO(1)::03c7523a-6801-11ed-80e0-0242ac1c0002] Configuration 171 not found\n",
            "[WARNING] [2022-11-19 11:55:11,475:Client-AutoMLSMBO(1)::03c7523a-6801-11ed-80e0-0242ac1c0002] Configuration 680 not found\n",
            "[WARNING] [2022-11-19 11:55:11,475:Client-AutoMLSMBO(1)::03c7523a-6801-11ed-80e0-0242ac1c0002] Configuration 470 not found\n",
            "[WARNING] [2022-11-19 11:55:11,475:Client-AutoMLSMBO(1)::03c7523a-6801-11ed-80e0-0242ac1c0002] Configuration 197 not found\n",
            "[WARNING] [2022-11-19 11:55:11,475:Client-AutoMLSMBO(1)::03c7523a-6801-11ed-80e0-0242ac1c0002] Configuration 444 not found\n",
            "[WARNING] [2022-11-19 11:55:11,475:Client-AutoMLSMBO(1)::03c7523a-6801-11ed-80e0-0242ac1c0002] Configuration 99 not found\n",
            "[WARNING] [2022-11-19 11:55:11,476:Client-AutoMLSMBO(1)::03c7523a-6801-11ed-80e0-0242ac1c0002] Configuration 160 not found\n",
            "[WARNING] [2022-11-19 11:55:11,476:Client-AutoMLSMBO(1)::03c7523a-6801-11ed-80e0-0242ac1c0002] Configuration 298 not found\n",
            "[WARNING] [2022-11-19 11:55:11,476:Client-AutoMLSMBO(1)::03c7523a-6801-11ed-80e0-0242ac1c0002] Configuration 608 not found\n",
            "[WARNING] [2022-11-19 11:55:11,476:Client-AutoMLSMBO(1)::03c7523a-6801-11ed-80e0-0242ac1c0002] Configuration 288 not found\n",
            "[WARNING] [2022-11-19 11:55:11,476:Client-AutoMLSMBO(1)::03c7523a-6801-11ed-80e0-0242ac1c0002] Configuration 628 not found\n",
            "[WARNING] [2022-11-19 11:55:11,476:Client-AutoMLSMBO(1)::03c7523a-6801-11ed-80e0-0242ac1c0002] Configuration 193 not found\n",
            "[WARNING] [2022-11-19 11:55:11,476:Client-AutoMLSMBO(1)::03c7523a-6801-11ed-80e0-0242ac1c0002] Configuration 291 not found\n",
            "[WARNING] [2022-11-19 11:55:11,476:Client-AutoMLSMBO(1)::03c7523a-6801-11ed-80e0-0242ac1c0002] Configuration 48 not found\n",
            "[WARNING] [2022-11-19 11:55:11,476:Client-AutoMLSMBO(1)::03c7523a-6801-11ed-80e0-0242ac1c0002] Configuration 521 not found\n",
            "[WARNING] [2022-11-19 11:55:11,476:Client-AutoMLSMBO(1)::03c7523a-6801-11ed-80e0-0242ac1c0002] Configuration 579 not found\n",
            "[WARNING] [2022-11-19 11:55:11,476:Client-AutoMLSMBO(1)::03c7523a-6801-11ed-80e0-0242ac1c0002] Configuration 613 not found\n",
            "[WARNING] [2022-11-19 11:55:11,476:Client-AutoMLSMBO(1)::03c7523a-6801-11ed-80e0-0242ac1c0002] Configuration 145 not found\n",
            "[WARNING] [2022-11-19 11:55:11,476:Client-AutoMLSMBO(1)::03c7523a-6801-11ed-80e0-0242ac1c0002] Configuration 243 not found\n",
            "[WARNING] [2022-11-19 11:55:11,476:Client-AutoMLSMBO(1)::03c7523a-6801-11ed-80e0-0242ac1c0002] Configuration 14 not found\n",
            "[WARNING] [2022-11-19 11:55:11,476:Client-AutoMLSMBO(1)::03c7523a-6801-11ed-80e0-0242ac1c0002] Configuration 134 not found\n",
            "[WARNING] [2022-11-19 11:55:11,476:Client-AutoMLSMBO(1)::03c7523a-6801-11ed-80e0-0242ac1c0002] Configuration 173 not found\n",
            "[WARNING] [2022-11-19 11:55:11,476:Client-AutoMLSMBO(1)::03c7523a-6801-11ed-80e0-0242ac1c0002] Configuration 277 not found\n",
            "[WARNING] [2022-11-19 11:55:11,476:Client-AutoMLSMBO(1)::03c7523a-6801-11ed-80e0-0242ac1c0002] Configuration 88 not found\n",
            "[WARNING] [2022-11-19 11:55:11,477:Client-AutoMLSMBO(1)::03c7523a-6801-11ed-80e0-0242ac1c0002] Configuration 515 not found\n",
            "[WARNING] [2022-11-19 11:55:11,478:Client-AutoMLSMBO(1)::03c7523a-6801-11ed-80e0-0242ac1c0002] Configuration 536 not found\n",
            "[WARNING] [2022-11-19 11:55:11,479:Client-AutoMLSMBO(1)::03c7523a-6801-11ed-80e0-0242ac1c0002] Configuration 315 not found\n",
            "[WARNING] [2022-11-19 11:55:11,479:Client-AutoMLSMBO(1)::03c7523a-6801-11ed-80e0-0242ac1c0002] Configuration 640 not found\n",
            "[WARNING] [2022-11-19 11:55:11,479:Client-AutoMLSMBO(1)::03c7523a-6801-11ed-80e0-0242ac1c0002] Configuration 282 not found\n",
            "[WARNING] [2022-11-19 11:55:11,479:Client-AutoMLSMBO(1)::03c7523a-6801-11ed-80e0-0242ac1c0002] Configuration 486 not found\n",
            "[WARNING] [2022-11-19 11:55:11,479:Client-AutoMLSMBO(1)::03c7523a-6801-11ed-80e0-0242ac1c0002] Configuration 690 not found\n",
            "[WARNING] [2022-11-19 11:55:11,479:Client-AutoMLSMBO(1)::03c7523a-6801-11ed-80e0-0242ac1c0002] Configuration 393 not found\n",
            "[WARNING] [2022-11-19 11:55:11,479:Client-AutoMLSMBO(1)::03c7523a-6801-11ed-80e0-0242ac1c0002] Configuration 19 not found\n",
            "[WARNING] [2022-11-19 11:55:11,479:Client-AutoMLSMBO(1)::03c7523a-6801-11ed-80e0-0242ac1c0002] Configuration 622 not found\n",
            "[WARNING] [2022-11-19 11:55:11,479:Client-AutoMLSMBO(1)::03c7523a-6801-11ed-80e0-0242ac1c0002] Configuration 414 not found\n",
            "[WARNING] [2022-11-19 11:55:11,479:Client-AutoMLSMBO(1)::03c7523a-6801-11ed-80e0-0242ac1c0002] Configuration 114 not found\n",
            "[WARNING] [2022-11-19 11:55:11,479:Client-AutoMLSMBO(1)::03c7523a-6801-11ed-80e0-0242ac1c0002] Configuration 601 not found\n",
            "[WARNING] [2022-11-19 11:55:11,480:Client-AutoMLSMBO(1)::03c7523a-6801-11ed-80e0-0242ac1c0002] Configuration 553 not found\n",
            "[WARNING] [2022-11-19 11:55:11,480:Client-AutoMLSMBO(1)::03c7523a-6801-11ed-80e0-0242ac1c0002] Configuration 440 not found\n",
            "[WARNING] [2022-11-19 11:55:11,480:Client-AutoMLSMBO(1)::03c7523a-6801-11ed-80e0-0242ac1c0002] Configuration 32 not found\n",
            "[WARNING] [2022-11-19 11:55:11,480:Client-AutoMLSMBO(1)::03c7523a-6801-11ed-80e0-0242ac1c0002] Configuration 430 not found\n",
            "[WARNING] [2022-11-19 11:55:11,480:Client-AutoMLSMBO(1)::03c7523a-6801-11ed-80e0-0242ac1c0002] Configuration 546 not found\n",
            "[WARNING] [2022-11-19 11:55:11,480:Client-AutoMLSMBO(1)::03c7523a-6801-11ed-80e0-0242ac1c0002] Configuration 473 not found\n",
            "[WARNING] [2022-11-19 11:55:11,480:Client-AutoMLSMBO(1)::03c7523a-6801-11ed-80e0-0242ac1c0002] Configuration 585 not found\n",
            "[WARNING] [2022-11-19 11:55:11,480:Client-AutoMLSMBO(1)::03c7523a-6801-11ed-80e0-0242ac1c0002] Configuration 476 not found\n",
            "[WARNING] [2022-11-19 11:55:11,480:Client-AutoMLSMBO(1)::03c7523a-6801-11ed-80e0-0242ac1c0002] Configuration 532 not found\n",
            "[WARNING] [2022-11-19 11:55:11,480:Client-AutoMLSMBO(1)::03c7523a-6801-11ed-80e0-0242ac1c0002] Configuration 220 not found\n",
            "[WARNING] [2022-11-19 11:55:11,480:Client-AutoMLSMBO(1)::03c7523a-6801-11ed-80e0-0242ac1c0002] Configuration 238 not found\n",
            "[WARNING] [2022-11-19 11:55:11,480:Client-AutoMLSMBO(1)::03c7523a-6801-11ed-80e0-0242ac1c0002] Configuration 509 not found\n",
            "[WARNING] [2022-11-19 11:55:11,480:Client-AutoMLSMBO(1)::03c7523a-6801-11ed-80e0-0242ac1c0002] Configuration 211 not found\n",
            "[WARNING] [2022-11-19 11:55:11,480:Client-AutoMLSMBO(1)::03c7523a-6801-11ed-80e0-0242ac1c0002] Configuration 162 not found\n",
            "[WARNING] [2022-11-19 11:55:11,480:Client-AutoMLSMBO(1)::03c7523a-6801-11ed-80e0-0242ac1c0002] Configuration 657 not found\n",
            "[WARNING] [2022-11-19 11:55:11,480:Client-AutoMLSMBO(1)::03c7523a-6801-11ed-80e0-0242ac1c0002] Configuration 176 not found\n",
            "[WARNING] [2022-11-19 11:55:11,483:Client-AutoMLSMBO(1)::03c7523a-6801-11ed-80e0-0242ac1c0002] Configuration 61 not found\n",
            "[WARNING] [2022-11-19 11:55:11,484:Client-AutoMLSMBO(1)::03c7523a-6801-11ed-80e0-0242ac1c0002] Configuration 332 not found\n",
            "[WARNING] [2022-11-19 11:55:11,485:Client-AutoMLSMBO(1)::03c7523a-6801-11ed-80e0-0242ac1c0002] Configuration 506 not found\n",
            "[WARNING] [2022-11-19 11:55:11,485:Client-AutoMLSMBO(1)::03c7523a-6801-11ed-80e0-0242ac1c0002] Configuration 1 not found\n",
            "[WARNING] [2022-11-19 11:55:11,485:Client-AutoMLSMBO(1)::03c7523a-6801-11ed-80e0-0242ac1c0002] Configuration 454 not found\n",
            "[WARNING] [2022-11-19 11:55:11,485:Client-AutoMLSMBO(1)::03c7523a-6801-11ed-80e0-0242ac1c0002] Configuration 138 not found\n",
            "[WARNING] [2022-11-19 11:55:11,485:Client-AutoMLSMBO(1)::03c7523a-6801-11ed-80e0-0242ac1c0002] Configuration 183 not found\n",
            "[WARNING] [2022-11-19 11:55:11,485:Client-AutoMLSMBO(1)::03c7523a-6801-11ed-80e0-0242ac1c0002] Configuration 28 not found\n",
            "[WARNING] [2022-11-19 11:55:11,485:Client-AutoMLSMBO(1)::03c7523a-6801-11ed-80e0-0242ac1c0002] Configuration 386 not found\n",
            "[WARNING] [2022-11-19 11:55:11,485:Client-AutoMLSMBO(1)::03c7523a-6801-11ed-80e0-0242ac1c0002] Configuration 407 not found\n",
            "[WARNING] [2022-11-19 11:55:11,485:Client-AutoMLSMBO(1)::03c7523a-6801-11ed-80e0-0242ac1c0002] Configuration 254 not found\n",
            "[WARNING] [2022-11-19 11:55:11,485:Client-AutoMLSMBO(1)::03c7523a-6801-11ed-80e0-0242ac1c0002] Configuration 262 not found\n",
            "[WARNING] [2022-11-19 11:55:11,485:Client-AutoMLSMBO(1)::03c7523a-6801-11ed-80e0-0242ac1c0002] Configuration 659 not found\n",
            "[WARNING] [2022-11-19 11:55:11,485:Client-AutoMLSMBO(1)::03c7523a-6801-11ed-80e0-0242ac1c0002] Configuration 635 not found\n",
            "[WARNING] [2022-11-19 11:55:11,486:Client-AutoMLSMBO(1)::03c7523a-6801-11ed-80e0-0242ac1c0002] Configuration 687 not found\n",
            "[WARNING] [2022-11-19 11:55:11,485:Client-AutoMLSMBO(1)::03c7523a-6801-11ed-80e0-0242ac1c0002] Configuration 206 not found\n",
            "[WARNING] [2022-11-19 11:55:11,486:Client-AutoMLSMBO(1)::03c7523a-6801-11ed-80e0-0242ac1c0002] Configuration 524 not found\n",
            "[WARNING] [2022-11-19 11:55:11,486:Client-AutoMLSMBO(1)::03c7523a-6801-11ed-80e0-0242ac1c0002] Configuration 184 not found\n",
            "[WARNING] [2022-11-19 11:55:11,487:Client-AutoMLSMBO(1)::03c7523a-6801-11ed-80e0-0242ac1c0002] Configuration 75 not found\n",
            "[WARNING] [2022-11-19 11:55:11,487:Client-AutoMLSMBO(1)::03c7523a-6801-11ed-80e0-0242ac1c0002] Configuration 663 not found\n",
            "[WARNING] [2022-11-19 11:55:11,487:Client-AutoMLSMBO(1)::03c7523a-6801-11ed-80e0-0242ac1c0002] Configuration 222 not found\n",
            "[WARNING] [2022-11-19 11:55:11,487:Client-AutoMLSMBO(1)::03c7523a-6801-11ed-80e0-0242ac1c0002] Configuration 566 not found\n",
            "[WARNING] [2022-11-19 11:55:11,487:Client-AutoMLSMBO(1)::03c7523a-6801-11ed-80e0-0242ac1c0002] Configuration 257 not found\n",
            "[WARNING] [2022-11-19 11:55:11,487:Client-AutoMLSMBO(1)::03c7523a-6801-11ed-80e0-0242ac1c0002] Configuration 7 not found\n",
            "[WARNING] [2022-11-19 11:55:11,488:Client-AutoMLSMBO(1)::03c7523a-6801-11ed-80e0-0242ac1c0002] Configuration 670 not found\n",
            "[WARNING] [2022-11-19 11:55:11,488:Client-AutoMLSMBO(1)::03c7523a-6801-11ed-80e0-0242ac1c0002] Configuration 576 not found\n",
            "[WARNING] [2022-11-19 11:55:11,488:Client-AutoMLSMBO(1)::03c7523a-6801-11ed-80e0-0242ac1c0002] Configuration 560 not found\n",
            "[WARNING] [2022-11-19 11:55:11,488:Client-AutoMLSMBO(1)::03c7523a-6801-11ed-80e0-0242ac1c0002] Configuration 624 not found\n",
            "[WARNING] [2022-11-19 11:55:11,488:Client-AutoMLSMBO(1)::03c7523a-6801-11ed-80e0-0242ac1c0002] Configuration 345 not found\n",
            "[WARNING] [2022-11-19 11:55:11,488:Client-AutoMLSMBO(1)::03c7523a-6801-11ed-80e0-0242ac1c0002] Configuration 676 not found\n",
            "[WARNING] [2022-11-19 11:55:11,488:Client-AutoMLSMBO(1)::03c7523a-6801-11ed-80e0-0242ac1c0002] Configuration 340 not found\n",
            "[WARNING] [2022-11-19 11:55:11,488:Client-AutoMLSMBO(1)::03c7523a-6801-11ed-80e0-0242ac1c0002] Configuration 108 not found\n",
            "[WARNING] [2022-11-19 11:55:11,488:Client-AutoMLSMBO(1)::03c7523a-6801-11ed-80e0-0242ac1c0002] Configuration 149 not found\n",
            "[WARNING] [2022-11-19 11:55:11,488:Client-AutoMLSMBO(1)::03c7523a-6801-11ed-80e0-0242ac1c0002] Configuration 399 not found\n",
            "[WARNING] [2022-11-19 11:55:11,488:Client-AutoMLSMBO(1)::03c7523a-6801-11ed-80e0-0242ac1c0002] Configuration 347 not found\n",
            "[WARNING] [2022-11-19 11:55:11,488:Client-AutoMLSMBO(1)::03c7523a-6801-11ed-80e0-0242ac1c0002] Configuration 247 not found\n",
            "[WARNING] [2022-11-19 11:55:11,488:Client-AutoMLSMBO(1)::03c7523a-6801-11ed-80e0-0242ac1c0002] Configuration 204 not found\n",
            "[WARNING] [2022-11-19 11:55:11,488:Client-AutoMLSMBO(1)::03c7523a-6801-11ed-80e0-0242ac1c0002] Configuration 358 not found\n",
            "[WARNING] [2022-11-19 11:55:11,488:Client-AutoMLSMBO(1)::03c7523a-6801-11ed-80e0-0242ac1c0002] Configuration 631 not found\n",
            "[WARNING] [2022-11-19 11:55:11,488:Client-AutoMLSMBO(1)::03c7523a-6801-11ed-80e0-0242ac1c0002] Configuration 492 not found\n",
            "[WARNING] [2022-11-19 11:55:11,489:Client-AutoMLSMBO(1)::03c7523a-6801-11ed-80e0-0242ac1c0002] Configuration 283 not found\n",
            "[WARNING] [2022-11-19 11:55:11,489:Client-AutoMLSMBO(1)::03c7523a-6801-11ed-80e0-0242ac1c0002] Configuration 590 not found\n",
            "[WARNING] [2022-11-19 11:55:11,489:Client-AutoMLSMBO(1)::03c7523a-6801-11ed-80e0-0242ac1c0002] Configuration 67 not found\n",
            "[WARNING] [2022-11-19 11:55:11,489:Client-AutoMLSMBO(1)::03c7523a-6801-11ed-80e0-0242ac1c0002] Configuration 22 not found\n",
            "[WARNING] [2022-11-19 11:55:11,489:Client-AutoMLSMBO(1)::03c7523a-6801-11ed-80e0-0242ac1c0002] Configuration 227 not found\n",
            "[WARNING] [2022-11-19 11:55:11,489:Client-AutoMLSMBO(1)::03c7523a-6801-11ed-80e0-0242ac1c0002] Configuration 369 not found\n",
            "[WARNING] [2022-11-19 11:55:11,489:Client-AutoMLSMBO(1)::03c7523a-6801-11ed-80e0-0242ac1c0002] Configuration 702 not found\n",
            "[WARNING] [2022-11-19 11:55:11,491:Client-AutoMLSMBO(1)::03c7523a-6801-11ed-80e0-0242ac1c0002] Configuration 512 not found\n",
            "[WARNING] [2022-11-19 11:55:11,491:Client-AutoMLSMBO(1)::03c7523a-6801-11ed-80e0-0242ac1c0002] Configuration 357 not found\n",
            "[WARNING] [2022-11-19 11:55:11,491:Client-AutoMLSMBO(1)::03c7523a-6801-11ed-80e0-0242ac1c0002] Configuration 266 not found\n",
            "[WARNING] [2022-11-19 11:55:11,491:Client-AutoMLSMBO(1)::03c7523a-6801-11ed-80e0-0242ac1c0002] Configuration 188 not found\n",
            "[WARNING] [2022-11-19 11:55:11,491:Client-AutoMLSMBO(1)::03c7523a-6801-11ed-80e0-0242ac1c0002] Configuration 587 not found\n",
            "[WARNING] [2022-11-19 11:55:11,492:Client-AutoMLSMBO(1)::03c7523a-6801-11ed-80e0-0242ac1c0002] Configuration 452 not found\n",
            "[WARNING] [2022-11-19 11:55:11,492:Client-AutoMLSMBO(1)::03c7523a-6801-11ed-80e0-0242ac1c0002] Configuration 653 not found\n",
            "[WARNING] [2022-11-19 11:55:11,492:Client-AutoMLSMBO(1)::03c7523a-6801-11ed-80e0-0242ac1c0002] Configuration 518 not found\n",
            "[WARNING] [2022-11-19 11:55:11,492:Client-AutoMLSMBO(1)::03c7523a-6801-11ed-80e0-0242ac1c0002] Configuration 327 not found\n",
            "[WARNING] [2022-11-19 11:55:11,492:Client-AutoMLSMBO(1)::03c7523a-6801-11ed-80e0-0242ac1c0002] Configuration 91 not found\n",
            "[WARNING] [2022-11-19 11:55:11,493:Client-AutoMLSMBO(1)::03c7523a-6801-11ed-80e0-0242ac1c0002] Configuration 467 not found\n",
            "[WARNING] [2022-11-19 11:55:11,493:Client-AutoMLSMBO(1)::03c7523a-6801-11ed-80e0-0242ac1c0002] Configuration 694 not found\n",
            "[WARNING] [2022-11-19 11:55:11,493:Client-AutoMLSMBO(1)::03c7523a-6801-11ed-80e0-0242ac1c0002] Configuration 648 not found\n",
            "[WARNING] [2022-11-19 11:55:11,493:Client-AutoMLSMBO(1)::03c7523a-6801-11ed-80e0-0242ac1c0002] Configuration 426 not found\n",
            "[WARNING] [2022-11-19 11:55:11,495:Client-AutoMLSMBO(1)::03c7523a-6801-11ed-80e0-0242ac1c0002] Configuration 437 not found\n",
            "[WARNING] [2022-11-19 11:55:11,495:Client-AutoMLSMBO(1)::03c7523a-6801-11ed-80e0-0242ac1c0002] Configuration 310 not found\n",
            "[WARNING] [2022-11-19 11:55:11,495:Client-AutoMLSMBO(1)::03c7523a-6801-11ed-80e0-0242ac1c0002] Configuration 71 not found\n",
            "[WARNING] [2022-11-19 11:55:11,495:Client-AutoMLSMBO(1)::03c7523a-6801-11ed-80e0-0242ac1c0002] Configuration 668 not found\n",
            "[WARNING] [2022-11-19 11:55:11,495:Client-AutoMLSMBO(1)::03c7523a-6801-11ed-80e0-0242ac1c0002] Configuration 367 not found\n",
            "[WARNING] [2022-11-19 11:55:11,495:Client-AutoMLSMBO(1)::03c7523a-6801-11ed-80e0-0242ac1c0002] Configuration 338 not found\n",
            "[WARNING] [2022-11-19 11:55:11,495:Client-AutoMLSMBO(1)::03c7523a-6801-11ed-80e0-0242ac1c0002] Configuration 43 not found\n",
            "[WARNING] [2022-11-19 11:55:11,495:Client-AutoMLSMBO(1)::03c7523a-6801-11ed-80e0-0242ac1c0002] Configuration 701 not found\n",
            "[WARNING] [2022-11-19 11:55:11,495:Client-AutoMLSMBO(1)::03c7523a-6801-11ed-80e0-0242ac1c0002] Configuration 605 not found\n",
            "[WARNING] [2022-11-19 11:55:11,495:Client-AutoMLSMBO(1)::03c7523a-6801-11ed-80e0-0242ac1c0002] Configuration 147 not found\n",
            "[WARNING] [2022-11-19 11:55:11,495:Client-AutoMLSMBO(1)::03c7523a-6801-11ed-80e0-0242ac1c0002] Configuration 422 not found\n",
            "[WARNING] [2022-11-19 11:55:11,495:Client-AutoMLSMBO(1)::03c7523a-6801-11ed-80e0-0242ac1c0002] Configuration 232 not found\n",
            "[WARNING] [2022-11-19 11:55:11,495:Client-AutoMLSMBO(1)::03c7523a-6801-11ed-80e0-0242ac1c0002] Configuration 120 not found\n",
            "[WARNING] [2022-11-19 11:55:11,495:Client-AutoMLSMBO(1)::03c7523a-6801-11ed-80e0-0242ac1c0002] Configuration 53 not found\n",
            "[WARNING] [2022-11-19 11:55:11,495:Client-AutoMLSMBO(1)::03c7523a-6801-11ed-80e0-0242ac1c0002] Configuration 37 not found\n",
            "[WARNING] [2022-11-19 11:55:11,496:Client-AutoMLSMBO(1)::03c7523a-6801-11ed-80e0-0242ac1c0002] Configuration 538 not found\n",
            "[WARNING] [2022-11-19 11:55:11,496:Client-AutoMLSMBO(1)::03c7523a-6801-11ed-80e0-0242ac1c0002] Configuration 313 not found\n",
            "[WARNING] [2022-11-19 11:55:11,496:Client-AutoMLSMBO(1)::03c7523a-6801-11ed-80e0-0242ac1c0002] Configuration 270 not found\n",
            "[WARNING] [2022-11-19 11:55:11,496:Client-AutoMLSMBO(1)::03c7523a-6801-11ed-80e0-0242ac1c0002] Configuration 251 not found\n",
            "[WARNING] [2022-11-19 11:55:11,496:Client-AutoMLSMBO(1)::03c7523a-6801-11ed-80e0-0242ac1c0002] Configuration 388 not found\n",
            "[WARNING] [2022-11-19 11:55:11,496:Client-AutoMLSMBO(1)::03c7523a-6801-11ed-80e0-0242ac1c0002] Configuration 293 not found\n",
            "[WARNING] [2022-11-19 11:55:11,497:Client-AutoMLSMBO(1)::03c7523a-6801-11ed-80e0-0242ac1c0002] Configuration 154 not found\n",
            "[WARNING] [2022-11-19 11:55:11,497:Client-AutoMLSMBO(1)::03c7523a-6801-11ed-80e0-0242ac1c0002] Configuration 172 not found\n",
            "[WARNING] [2022-11-19 11:55:11,497:Client-AutoMLSMBO(1)::03c7523a-6801-11ed-80e0-0242ac1c0002] Configuration 499 not found\n",
            "[WARNING] [2022-11-19 11:55:11,497:Client-AutoMLSMBO(1)::03c7523a-6801-11ed-80e0-0242ac1c0002] Configuration 214 not found\n",
            "[WARNING] [2022-11-19 11:55:11,497:Client-AutoMLSMBO(1)::03c7523a-6801-11ed-80e0-0242ac1c0002] Configuration 382 not found\n",
            "[WARNING] [2022-11-19 11:55:11,497:Client-AutoMLSMBO(1)::03c7523a-6801-11ed-80e0-0242ac1c0002] Configuration 322 not found\n",
            "[WARNING] [2022-11-19 11:55:11,497:Client-AutoMLSMBO(1)::03c7523a-6801-11ed-80e0-0242ac1c0002] Configuration 419 not found\n",
            "[WARNING] [2022-11-19 11:55:11,497:Client-AutoMLSMBO(1)::03c7523a-6801-11ed-80e0-0242ac1c0002] Configuration 363 not found\n",
            "[WARNING] [2022-11-19 11:55:11,497:Client-AutoMLSMBO(1)::03c7523a-6801-11ed-80e0-0242ac1c0002] Configuration 165 not found\n",
            "[WARNING] [2022-11-19 11:55:11,497:Client-AutoMLSMBO(1)::03c7523a-6801-11ed-80e0-0242ac1c0002] Configuration 199 not found\n",
            "[WARNING] [2022-11-19 11:55:11,497:Client-AutoMLSMBO(1)::03c7523a-6801-11ed-80e0-0242ac1c0002] Configuration 548 not found\n",
            "[WARNING] [2022-11-19 11:55:11,497:Client-AutoMLSMBO(1)::03c7523a-6801-11ed-80e0-0242ac1c0002] Configuration 596 not found\n",
            "[WARNING] [2022-11-19 11:55:11,497:Client-AutoMLSMBO(1)::03c7523a-6801-11ed-80e0-0242ac1c0002] Configuration 461 not found\n",
            "[WARNING] [2022-11-19 11:55:11,498:Client-AutoMLSMBO(1)::03c7523a-6801-11ed-80e0-0242ac1c0002] Configuration 317 not found\n",
            "[WARNING] [2022-11-19 11:55:11,498:Client-AutoMLSMBO(1)::03c7523a-6801-11ed-80e0-0242ac1c0002] Configuration 304 not found\n",
            "[WARNING] [2022-11-19 11:55:11,498:Client-AutoMLSMBO(1)::03c7523a-6801-11ed-80e0-0242ac1c0002] Configuration 503 not found\n",
            "[WARNING] [2022-11-19 11:55:11,498:Client-AutoMLSMBO(1)::03c7523a-6801-11ed-80e0-0242ac1c0002] Configuration 412 not found\n",
            "[WARNING] [2022-11-19 11:55:11,498:Client-AutoMLSMBO(1)::03c7523a-6801-11ed-80e0-0242ac1c0002] Configuration 25 not found\n",
            "[WARNING] [2022-11-19 11:55:11,498:Client-AutoMLSMBO(1)::03c7523a-6801-11ed-80e0-0242ac1c0002] Configuration 102 not found\n",
            "[WARNING] [2022-11-19 11:55:11,514:Client-AutoMLSMBO(1)::03c7523a-6801-11ed-80e0-0242ac1c0002] Configuration 86 not found\n",
            "[WARNING] [2022-11-19 11:55:11,514:Client-AutoMLSMBO(1)::03c7523a-6801-11ed-80e0-0242ac1c0002] Configuration 375 not found\n",
            "[WARNING] [2022-11-19 11:55:11,514:Client-AutoMLSMBO(1)::03c7523a-6801-11ed-80e0-0242ac1c0002] Configuration 275 not found\n",
            "[WARNING] [2022-11-19 11:55:11,514:Client-AutoMLSMBO(1)::03c7523a-6801-11ed-80e0-0242ac1c0002] Configuration 150 not found\n",
            "          rank  ensemble_weight                 type      cost   duration\n",
            "model_id                                                                 \n",
            "3            1             0.06  k_nearest_neighbors  0.038889   3.412526\n",
            "6            2             0.02  k_nearest_neighbors  0.052525   2.688777\n",
            "12           3             0.30             adaboost  0.061111  58.790246\n",
            "10           4             0.36             adaboost  0.072222  52.239429\n",
            "9            5             0.24             adaboost  0.242929  13.401170\n",
            "2            6             0.02             adaboost  0.255051   5.704554\n",
            "Accuracy =  0.952\n"
          ]
        }
      ],
      "source": [
        "autoclass= autosklearn.classification.AutoSklearnClassifier(\n",
        "    include={'classifier':[\"k_nearest_neighbors\",\"adaboost\"]},\n",
        "    time_left_for_this_task=360,\n",
        "    per_run_time_limit=90\n",
        ")\n",
        "autoclass.fit(X_train, y_train)\n",
        "\n",
        "print(autoclass.leaderboard())\n",
        "\n",
        "y_pred = autoclass.predict(X_test, y_test)\n",
        "print(\"Accuracy = \", accuracy_score(y_test, y_pred))\n"
      ]
    },
    {
      "cell_type": "code",
      "execution_count": 3,
      "metadata": {
        "id": "kWJ5SweDelHN",
        "colab": {
          "base_uri": "https://localhost:8080/",
          "height": 218
        },
        "outputId": "34fa422e-6e10-4dd8-c160-d2ab532b2a19"
      },
      "outputs": [
        {
          "output_type": "error",
          "ename": "NameError",
          "evalue": "ignored",
          "traceback": [
            "\u001b[0;31m---------------------------------------------------------------------------\u001b[0m",
            "\u001b[0;31mNameError\u001b[0m                                 Traceback (most recent call last)",
            "\u001b[0;32m<ipython-input-3-084dd8fda1c1>\u001b[0m in \u001b[0;36m<module>\u001b[0;34m\u001b[0m\n\u001b[1;32m      2\u001b[0m \u001b[0;34m\u001b[0m\u001b[0m\n\u001b[1;32m      3\u001b[0m \u001b[0;34m\u001b[0m\u001b[0m\n\u001b[0;32m----> 4\u001b[0;31m \u001b[0mprint\u001b[0m\u001b[0;34m(\u001b[0m\u001b[0macc\u001b[0m\u001b[0;34m)\u001b[0m\u001b[0;34m\u001b[0m\u001b[0;34m\u001b[0m\u001b[0m\n\u001b[0m\u001b[1;32m      5\u001b[0m \u001b[0mpprint\u001b[0m\u001b[0;34m(\u001b[0m\u001b[0mautoclass\u001b[0m\u001b[0;34m.\u001b[0m\u001b[0mshow_models\u001b[0m\u001b[0;34m(\u001b[0m\u001b[0;34m)\u001b[0m\u001b[0;34m,\u001b[0m \u001b[0mindent\u001b[0m\u001b[0;34m=\u001b[0m\u001b[0;36m4\u001b[0m\u001b[0;34m)\u001b[0m\u001b[0;34m\u001b[0m\u001b[0;34m\u001b[0m\u001b[0m\n",
            "\u001b[0;31mNameError\u001b[0m: name 'acc' is not defined"
          ]
        }
      ],
      "source": [
        "from pprint import pprint\n",
        "pprint(autoclass.show_models(), indent=4)"
      ]
    },
    {
      "cell_type": "markdown",
      "metadata": {
        "id": "b4UOUW27elHN"
      },
      "source": [
        "**Question 9**\n",
        "\n",
        "What are the evaluated models by autoML ? \n",
        "Which model obtain the best performance ? \n",
        "What are the parameters of the best model ?\n",
        "\n",
        "the models evaluated are KNN and AdaBoost. The best model is KNN with parameters : n_neighbors=4, weights='distance'"
      ]
    },
    {
      "cell_type": "markdown",
      "metadata": {
        "id": "XyyismcJelHN"
      },
      "source": [
        "### Bonus step \n",
        "\n",
        "As a bonus step, have fun and remove a maximum of constraints of your autoML model. Which model obtain the best performances ? Describe the parameters of this model. You can do it for either for regression or classification or both."
      ]
    },
    {
      "cell_type": "code",
      "execution_count": 19,
      "metadata": {
        "id": "Yb9MyoaBelHN",
        "colab": {
          "base_uri": "https://localhost:8080/",
          "height": 444
        },
        "outputId": "dce7725f-e896-4bbc-ab4a-f268e9eb5ae7"
      },
      "outputs": [
        {
          "output_type": "stream",
          "name": "stdout",
          "text": [
            "          rank  ensemble_weight                 type      cost   duration\n",
            "model_id                                                                 \n",
            "47           1             0.04           libsvm_svc  0.028788   8.753765\n",
            "5            2             0.04  k_nearest_neighbors  0.038889   3.425552\n",
            "77           3             0.02           libsvm_svc  0.040404   4.831798\n",
            "23           4             0.02           libsvm_svc  0.044949   4.682353\n",
            "58           5             0.02           libsvm_svc  0.052525   5.597967\n",
            "30           6             0.02           libsvm_svc  0.056061   9.617150\n",
            "28           7             0.02           libsvm_svc  0.063131   3.198135\n",
            "34           8             0.42             adaboost  0.078788  57.808697\n",
            "82           9             0.02        random_forest  0.090404   8.479548\n",
            "75          10             0.04                  lda  0.101515  43.314339\n",
            "53          11             0.34             adaboost  0.102525  67.580489\n",
            "Accuracy =  0.955\n"
          ]
        },
        {
          "output_type": "error",
          "ename": "NameError",
          "evalue": "ignored",
          "traceback": [
            "\u001b[0;31m---------------------------------------------------------------------------\u001b[0m",
            "\u001b[0;31mNameError\u001b[0m                                 Traceback (most recent call last)",
            "\u001b[0;32m<ipython-input-19-f18fefbd8809>\u001b[0m in \u001b[0;36m<module>\u001b[0;34m\u001b[0m\n\u001b[1;32m     14\u001b[0m \u001b[0mprint\u001b[0m\u001b[0;34m(\u001b[0m\u001b[0;34m\"Accuracy = \"\u001b[0m\u001b[0;34m,\u001b[0m\u001b[0macc\u001b[0m\u001b[0;34m)\u001b[0m\u001b[0;34m\u001b[0m\u001b[0;34m\u001b[0m\u001b[0m\n\u001b[1;32m     15\u001b[0m \u001b[0;34m\u001b[0m\u001b[0m\n\u001b[0;32m---> 16\u001b[0;31m \u001b[0mpprint\u001b[0m\u001b[0;34m(\u001b[0m\u001b[0mautoclass\u001b[0m\u001b[0;34m.\u001b[0m\u001b[0mshow_models\u001b[0m\u001b[0;34m(\u001b[0m\u001b[0;34m)\u001b[0m\u001b[0;34m,\u001b[0m \u001b[0mindent\u001b[0m\u001b[0;34m=\u001b[0m\u001b[0;36m4\u001b[0m\u001b[0;34m)\u001b[0m\u001b[0;34m\u001b[0m\u001b[0;34m\u001b[0m\u001b[0m\n\u001b[0m",
            "\u001b[0;31mNameError\u001b[0m: name 'pprint' is not defined"
          ]
        }
      ],
      "source": [
        "with open(\"data/mnist.pkl\", \"rb\") as f:\n",
        "    ((X_train, y_train), (X_test, y_test)) = pickle.load(f)\n",
        "\n",
        "autoclass= autosklearn.classification.AutoSklearnClassifier(\n",
        "    time_left_for_this_task=3600,\n",
        "    per_run_time_limit=360\n",
        ")\n",
        "autoclass.fit(X_train, y_train)\n",
        "\n",
        "print(autoclass.leaderboard())\n",
        "\n",
        "y_pred = autoclass.predict(X_test, y_test)\n",
        "acc= accuracy_score(y_test, y_pred)\n",
        "print(\"Accuracy = \",acc)\n"
      ]
    },
    {
      "cell_type": "code",
      "source": [
        "from pprint import pprint\n",
        "pprint(autoclass.show_models(), indent=4)\n"
      ],
      "metadata": {
        "colab": {
          "base_uri": "https://localhost:8080/"
        },
        "id": "dMLYUwfrTcOO",
        "outputId": "44d3a7b4-6eb7-4bd2-b257-12acb15e0a22"
      },
      "execution_count": 22,
      "outputs": [
        {
          "output_type": "stream",
          "name": "stdout",
          "text": [
            "{   5: {   'balancing': Balancing(random_state=1, strategy='weighting'),\n",
            "           'classifier': <autosklearn.pipeline.components.classification.ClassifierChoice object at 0x7f4bf6e42090>,\n",
            "           'cost': 0.03888888888888886,\n",
            "           'data_preprocessor': <autosklearn.pipeline.components.data_preprocessing.DataPreprocessorChoice object at 0x7f4bf6f2c850>,\n",
            "           'ensemble_weight': 0.04,\n",
            "           'feature_preprocessor': <autosklearn.pipeline.components.feature_preprocessing.FeaturePreprocessorChoice object at 0x7f4bf6e421d0>,\n",
            "           'model_id': 5,\n",
            "           'rank': 1,\n",
            "           'sklearn_classifier': KNeighborsClassifier(n_neighbors=4, weights='distance')},\n",
            "    23: {   'balancing': Balancing(random_state=1),\n",
            "            'classifier': <autosklearn.pipeline.components.classification.ClassifierChoice object at 0x7f4bf6f36250>,\n",
            "            'cost': 0.04494949494949496,\n",
            "            'data_preprocessor': <autosklearn.pipeline.components.data_preprocessing.DataPreprocessorChoice object at 0x7f4bf6f2ca90>,\n",
            "            'ensemble_weight': 0.02,\n",
            "            'feature_preprocessor': <autosklearn.pipeline.components.feature_preprocessing.FeaturePreprocessorChoice object at 0x7f4bf6f36610>,\n",
            "            'model_id': 23,\n",
            "            'rank': 2,\n",
            "            'sklearn_classifier': SVC(C=1803.5581329545355, cache_size=1840.7395833333333,\n",
            "    coef0=0.6141138805973136, degree=2, gamma=7.991791699871623, kernel='poly',\n",
            "    max_iter=-1.0, random_state=1, tol=0.04161403886920211)},\n",
            "    28: {   'balancing': Balancing(random_state=1, strategy='weighting'),\n",
            "            'classifier': <autosklearn.pipeline.components.classification.ClassifierChoice object at 0x7f4bf6d13f90>,\n",
            "            'cost': 0.06313131313131315,\n",
            "            'data_preprocessor': <autosklearn.pipeline.components.data_preprocessing.DataPreprocessorChoice object at 0x7f4bf6c463d0>,\n",
            "            'ensemble_weight': 0.02,\n",
            "            'feature_preprocessor': <autosklearn.pipeline.components.feature_preprocessing.FeaturePreprocessorChoice object at 0x7f4bf6d13190>,\n",
            "            'model_id': 28,\n",
            "            'rank': 3,\n",
            "            'sklearn_classifier': SVC(C=21037.956674703615, cache_size=1819.953125, class_weight='balanced',\n",
            "    coef0=0.8274864060783362, degree=5, gamma=0.46535142468805607,\n",
            "    kernel='poly', max_iter=-1.0, random_state=1, shrinking=False,\n",
            "    tol=0.0001908093830545879)},\n",
            "    30: {   'balancing': Balancing(random_state=1, strategy='weighting'),\n",
            "            'classifier': <autosklearn.pipeline.components.classification.ClassifierChoice object at 0x7f4bf6c18d10>,\n",
            "            'cost': 0.05606060606060603,\n",
            "            'data_preprocessor': <autosklearn.pipeline.components.data_preprocessing.DataPreprocessorChoice object at 0x7f4bf7098b90>,\n",
            "            'ensemble_weight': 0.02,\n",
            "            'feature_preprocessor': <autosklearn.pipeline.components.feature_preprocessing.FeaturePreprocessorChoice object at 0x7f4bf6e67fd0>,\n",
            "            'model_id': 30,\n",
            "            'rank': 4,\n",
            "            'sklearn_classifier': SVC(C=1775.313658340013, cache_size=1814.6145833333333, class_weight='balanced',\n",
            "    coef0=-0.41765106514841666, degree=2, gamma=2.6166845238639262,\n",
            "    kernel='poly', max_iter=-1.0, random_state=1, tol=7.343570523695438e-05)},\n",
            "    34: {   'balancing': Balancing(random_state=1),\n",
            "            'classifier': <autosklearn.pipeline.components.classification.ClassifierChoice object at 0x7f4bf6ec87d0>,\n",
            "            'cost': 0.07878787878787874,\n",
            "            'data_preprocessor': <autosklearn.pipeline.components.data_preprocessing.DataPreprocessorChoice object at 0x7f4bf6fb8a10>,\n",
            "            'ensemble_weight': 0.42,\n",
            "            'feature_preprocessor': <autosklearn.pipeline.components.feature_preprocessing.FeaturePreprocessorChoice object at 0x7f4bf6ec8890>,\n",
            "            'model_id': 34,\n",
            "            'rank': 5,\n",
            "            'sklearn_classifier': AdaBoostClassifier(algorithm='SAMME',\n",
            "                   base_estimator=DecisionTreeClassifier(max_depth=6),\n",
            "                   learning_rate=0.028153150396959196, n_estimators=92,\n",
            "                   random_state=1)},\n",
            "    47: {   'balancing': Balancing(random_state=1, strategy='weighting'),\n",
            "            'classifier': <autosklearn.pipeline.components.classification.ClassifierChoice object at 0x7f4bf66de8d0>,\n",
            "            'cost': 0.028787878787878807,\n",
            "            'data_preprocessor': <autosklearn.pipeline.components.data_preprocessing.DataPreprocessorChoice object at 0x7f4bf6f59350>,\n",
            "            'ensemble_weight': 0.04,\n",
            "            'feature_preprocessor': <autosklearn.pipeline.components.feature_preprocessing.FeaturePreprocessorChoice object at 0x7f4bf66de790>,\n",
            "            'model_id': 47,\n",
            "            'rank': 6,\n",
            "            'sklearn_classifier': SVC(C=1180.1813298257937, cache_size=1840.7447916666667,\n",
            "    class_weight='balanced', coef0=-0.03304972735529399, degree=4,\n",
            "    gamma=5.889819560229595, kernel='poly', max_iter=-1.0, random_state=1,\n",
            "    tol=5.294571125698735e-05)},\n",
            "    53: {   'balancing': Balancing(random_state=1),\n",
            "            'classifier': <autosklearn.pipeline.components.classification.ClassifierChoice object at 0x7f4bf64f1b90>,\n",
            "            'cost': 0.10252525252525257,\n",
            "            'data_preprocessor': <autosklearn.pipeline.components.data_preprocessing.DataPreprocessorChoice object at 0x7f4bf6edf690>,\n",
            "            'ensemble_weight': 0.34,\n",
            "            'feature_preprocessor': <autosklearn.pipeline.components.feature_preprocessing.FeaturePreprocessorChoice object at 0x7f4bf64f1890>,\n",
            "            'model_id': 53,\n",
            "            'rank': 7,\n",
            "            'sklearn_classifier': AdaBoostClassifier(algorithm='SAMME',\n",
            "                   base_estimator=DecisionTreeClassifier(max_depth=3),\n",
            "                   learning_rate=0.16012890305038852, n_estimators=269,\n",
            "                   random_state=1)},\n",
            "    58: {   'balancing': Balancing(random_state=1, strategy='weighting'),\n",
            "            'classifier': <autosklearn.pipeline.components.classification.ClassifierChoice object at 0x7f4bf62c3550>,\n",
            "            'cost': 0.05252525252525253,\n",
            "            'data_preprocessor': <autosklearn.pipeline.components.data_preprocessing.DataPreprocessorChoice object at 0x7f4bf66d14d0>,\n",
            "            'ensemble_weight': 0.02,\n",
            "            'feature_preprocessor': <autosklearn.pipeline.components.feature_preprocessing.FeaturePreprocessorChoice object at 0x7f4bf64d0bd0>,\n",
            "            'model_id': 58,\n",
            "            'rank': 8,\n",
            "            'sklearn_classifier': SVC(C=2716.4859331336193, cache_size=1839.7890625, class_weight='balanced',\n",
            "    coef0=-0.5780230063316011, degree=5, gamma=4.4041687796792655,\n",
            "    kernel='poly', max_iter=-1.0, random_state=1, tol=7.343570523695438e-05)},\n",
            "    75: {   'balancing': Balancing(random_state=1),\n",
            "            'classifier': <autosklearn.pipeline.components.classification.ClassifierChoice object at 0x7f4bf6136fd0>,\n",
            "            'cost': 0.10151515151515156,\n",
            "            'data_preprocessor': <autosklearn.pipeline.components.data_preprocessing.DataPreprocessorChoice object at 0x7f4bf6561ad0>,\n",
            "            'ensemble_weight': 0.04,\n",
            "            'feature_preprocessor': <autosklearn.pipeline.components.feature_preprocessing.FeaturePreprocessorChoice object at 0x7f4bf61367d0>,\n",
            "            'model_id': 75,\n",
            "            'rank': 9,\n",
            "            'sklearn_classifier': LinearDiscriminantAnalysis(shrinkage=0.6969898701643356, solver='lsqr',\n",
            "                           tol=3.8706934515234685e-05)},\n",
            "    77: {   'balancing': Balancing(random_state=1),\n",
            "            'classifier': <autosklearn.pipeline.components.classification.ClassifierChoice object at 0x7f4bf5f8aa90>,\n",
            "            'cost': 0.04040404040404044,\n",
            "            'data_preprocessor': <autosklearn.pipeline.components.data_preprocessing.DataPreprocessorChoice object at 0x7f4bf64f1a50>,\n",
            "            'ensemble_weight': 0.02,\n",
            "            'feature_preprocessor': <autosklearn.pipeline.components.feature_preprocessing.FeaturePreprocessorChoice object at 0x7f4bf5fe49d0>,\n",
            "            'model_id': 77,\n",
            "            'rank': 10,\n",
            "            'sklearn_classifier': SVC(C=997.3211580313675, cache_size=1817.7135416666667,\n",
            "    coef0=-0.4865534801866991, gamma=4.4041687796792655, kernel='poly',\n",
            "    max_iter=-1.0, random_state=1, tol=9.551832466501838e-05)},\n",
            "    82: {   'balancing': Balancing(random_state=1),\n",
            "            'classifier': <autosklearn.pipeline.components.classification.ClassifierChoice object at 0x7f4bf50460d0>,\n",
            "            'cost': 0.09040404040404038,\n",
            "            'data_preprocessor': <autosklearn.pipeline.components.data_preprocessing.DataPreprocessorChoice object at 0x7f4bf6130ad0>,\n",
            "            'ensemble_weight': 0.02,\n",
            "            'feature_preprocessor': <autosklearn.pipeline.components.feature_preprocessing.FeaturePreprocessorChoice object at 0x7f4bf5db3e50>,\n",
            "            'model_id': 82,\n",
            "            'rank': 11,\n",
            "            'sklearn_classifier': RandomForestClassifier(max_features=8, min_samples_leaf=12, min_samples_split=9,\n",
            "                       n_estimators=512, n_jobs=1, random_state=1,\n",
            "                       warm_start=True)}}\n"
          ]
        }
      ]
    },
    {
      "cell_type": "markdown",
      "source": [
        "The best is SVC with parameters : C=1180.1813298257937, cache_size=1840.7447916666667, class_weight='balanced', coef0=-0.03304972735529399, degree=4, gamma=5.889819560229595, kernel='poly', max_iter=-1.0, random_state=1, tol=5.294571125698735e-05)\n",
        "\n",
        "We can see that parameters are really presice because we let him the time to choose them better"
      ],
      "metadata": {
        "id": "owvrnW7iybhR"
      }
    }
  ],
  "metadata": {
    "colab": {
      "provenance": []
    },
    "kernelspec": {
      "display_name": "Python 3.9.12 ('base')",
      "language": "python",
      "name": "python3"
    },
    "language_info": {
      "codemirror_mode": {
        "name": "ipython",
        "version": 3
      },
      "file_extension": ".py",
      "mimetype": "text/x-python",
      "name": "python",
      "nbconvert_exporter": "python",
      "pygments_lexer": "ipython3",
      "version": "3.9.12"
    },
    "vscode": {
      "interpreter": {
        "hash": "7339996d7815a0ae30850c182ba9bbc0a1cb89e61563a0ae1819bddf17b67295"
      }
    }
  },
  "nbformat": 4,
  "nbformat_minor": 0
}